{
 "cells": [
  {
   "cell_type": "code",
   "execution_count": 1,
   "id": "initial_id",
   "metadata": {
    "collapsed": true,
    "ExecuteTime": {
     "end_time": "2024-09-23T19:28:00.459824Z",
     "start_time": "2024-09-23T19:27:41.733192Z"
    }
   },
   "outputs": [],
   "source": [
    "import pandas as pd\n",
    "\n",
    "u_data = pd.read_csv(\"./dataset/imdb/title.basics.tsv\", sep=\"\\t\", low_memory=False)"
   ]
  },
  {
   "cell_type": "code",
   "outputs": [],
   "source": [
    "u_movie = u_data[(u_data['titleType'] == 'movie') & (u_data['startYear'] < '2001') & (u_data['genres'] != '\\\\N')]"
   ],
   "metadata": {
    "collapsed": false,
    "ExecuteTime": {
     "end_time": "2024-09-23T19:28:12.236771Z",
     "start_time": "2024-09-23T19:28:10.993594Z"
    }
   },
   "id": "e7930db7e6127e3a",
   "execution_count": 2
  },
  {
   "cell_type": "code",
   "outputs": [],
   "source": [
    "u_movie = u_movie[['primaryTitle', 'startYear', 'genres']]"
   ],
   "metadata": {
    "collapsed": false,
    "ExecuteTime": {
     "end_time": "2024-09-23T19:28:15.624735Z",
     "start_time": "2024-09-23T19:28:15.607946Z"
    }
   },
   "id": "7a251913c942875e",
   "execution_count": 3
  },
  {
   "cell_type": "code",
   "outputs": [],
   "source": [
    "import json\n",
    "all_movie = {}\n",
    "for index, row in u_movie.iterrows():\n",
    "    movie = row.tolist()\n",
    "    key = f'{movie[0]} ({movie[1]})'\n",
    "    item = f'{movie[0]} ({movie[1]}), Genre: {movie[2]}'\n",
    "    all_movie[key] = item\n",
    "\n",
    "with open(f\"user_study/movieTitlesNone.json\", \"w\", encoding='utf-8') as fj:\n",
    "    json.dump(all_movie, fj)"
   ],
   "metadata": {
    "collapsed": false,
    "ExecuteTime": {
     "end_time": "2024-09-23T19:29:53.743222Z",
     "start_time": "2024-09-23T19:29:46.940173Z"
    }
   },
   "id": "36528b8a8d8e4bc6",
   "execution_count": 5
  }
 ],
 "metadata": {
  "kernelspec": {
   "display_name": "Python 3",
   "language": "python",
   "name": "python3"
  },
  "language_info": {
   "codemirror_mode": {
    "name": "ipython",
    "version": 2
   },
   "file_extension": ".py",
   "mimetype": "text/x-python",
   "name": "python",
   "nbconvert_exporter": "python",
   "pygments_lexer": "ipython2",
   "version": "2.7.6"
  }
 },
 "nbformat": 4,
 "nbformat_minor": 5
}
