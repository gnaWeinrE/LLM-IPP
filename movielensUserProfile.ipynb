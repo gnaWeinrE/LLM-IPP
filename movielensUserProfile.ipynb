{
 "cells": [
  {
   "cell_type": "code",
   "execution_count": 1,
   "id": "initial_id",
   "metadata": {
    "collapsed": true,
    "ExecuteTime": {
     "end_time": "2024-10-20T11:32:39.176153Z",
     "start_time": "2024-10-20T11:32:34.419873Z"
    }
   },
   "outputs": [],
   "source": [
    "import pandas as pd\n",
    "\n",
    "u_data = pd.read_csv(\"./dataset/ml-1m/ratings.dat\", delimiter='::', header=None, engine='python', encoding='ISO-8859-1')\n",
    "u_movie = pd.read_csv(\"./dataset/ml-1m/movies.dat\", delimiter='::', header=None, engine='python', encoding='ISO-8859-1')\n",
    "u_user = pd.read_csv(\"./dataset/ml-1m/users.dat\", delimiter='::', header=None, engine='python', encoding='ISO-8859-1')\n",
    "\n",
    "# u_occupation = pd.read_csv(\"./dataset/ml-100k/u.occupation\", delimiter='|', header=None)\n",
    "# u_user = pd.read_csv(\"./dataset/ml-100k/u.user\", delimiter='|', header=None)\n",
    "# u_item = pd.read_csv(\"./dataset/ml-100k/u.item\", delimiter='|', header=None, encoding = \"ISO-8859-1\")"
   ]
  },
  {
   "cell_type": "code",
   "outputs": [
    {
     "data": {
      "text/plain": "         0                                   1                             2\n0        1                    Toy Story (1995)   Animation|Children's|Comedy\n1        2                      Jumanji (1995)  Adventure|Children's|Fantasy\n2        3             Grumpier Old Men (1995)                Comedy|Romance\n3        4            Waiting to Exhale (1995)                  Comedy|Drama\n4        5  Father of the Bride Part II (1995)                        Comedy\n...    ...                                 ...                           ...\n3878  3948             Meet the Parents (2000)                        Comedy\n3879  3949          Requiem for a Dream (2000)                         Drama\n3880  3950                    Tigerland (2000)                         Drama\n3881  3951             Two Family House (2000)                         Drama\n3882  3952               Contender, The (2000)                Drama|Thriller\n\n[3883 rows x 3 columns]",
      "text/html": "<div>\n<style scoped>\n    .dataframe tbody tr th:only-of-type {\n        vertical-align: middle;\n    }\n\n    .dataframe tbody tr th {\n        vertical-align: top;\n    }\n\n    .dataframe thead th {\n        text-align: right;\n    }\n</style>\n<table border=\"1\" class=\"dataframe\">\n  <thead>\n    <tr style=\"text-align: right;\">\n      <th></th>\n      <th>0</th>\n      <th>1</th>\n      <th>2</th>\n    </tr>\n  </thead>\n  <tbody>\n    <tr>\n      <th>0</th>\n      <td>1</td>\n      <td>Toy Story (1995)</td>\n      <td>Animation|Children's|Comedy</td>\n    </tr>\n    <tr>\n      <th>1</th>\n      <td>2</td>\n      <td>Jumanji (1995)</td>\n      <td>Adventure|Children's|Fantasy</td>\n    </tr>\n    <tr>\n      <th>2</th>\n      <td>3</td>\n      <td>Grumpier Old Men (1995)</td>\n      <td>Comedy|Romance</td>\n    </tr>\n    <tr>\n      <th>3</th>\n      <td>4</td>\n      <td>Waiting to Exhale (1995)</td>\n      <td>Comedy|Drama</td>\n    </tr>\n    <tr>\n      <th>4</th>\n      <td>5</td>\n      <td>Father of the Bride Part II (1995)</td>\n      <td>Comedy</td>\n    </tr>\n    <tr>\n      <th>...</th>\n      <td>...</td>\n      <td>...</td>\n      <td>...</td>\n    </tr>\n    <tr>\n      <th>3878</th>\n      <td>3948</td>\n      <td>Meet the Parents (2000)</td>\n      <td>Comedy</td>\n    </tr>\n    <tr>\n      <th>3879</th>\n      <td>3949</td>\n      <td>Requiem for a Dream (2000)</td>\n      <td>Drama</td>\n    </tr>\n    <tr>\n      <th>3880</th>\n      <td>3950</td>\n      <td>Tigerland (2000)</td>\n      <td>Drama</td>\n    </tr>\n    <tr>\n      <th>3881</th>\n      <td>3951</td>\n      <td>Two Family House (2000)</td>\n      <td>Drama</td>\n    </tr>\n    <tr>\n      <th>3882</th>\n      <td>3952</td>\n      <td>Contender, The (2000)</td>\n      <td>Drama|Thriller</td>\n    </tr>\n  </tbody>\n</table>\n<p>3883 rows × 3 columns</p>\n</div>"
     },
     "execution_count": 2,
     "metadata": {},
     "output_type": "execute_result"
    }
   ],
   "source": [
    "u_movie"
   ],
   "metadata": {
    "collapsed": false,
    "ExecuteTime": {
     "end_time": "2024-10-20T11:32:40.039486Z",
     "start_time": "2024-10-20T11:32:40.026623Z"
    }
   },
   "id": "1c33db1ccb836aff",
   "execution_count": 2
  },
  {
   "cell_type": "code",
   "outputs": [],
   "source": [
    "u_frame = u_movie[[1,2]]"
   ],
   "metadata": {
    "collapsed": false,
    "ExecuteTime": {
     "end_time": "2024-09-24T18:42:26.950256Z",
     "start_time": "2024-09-24T18:42:26.933615Z"
    }
   },
   "id": "d540fc9232b45a29",
   "execution_count": 6
  },
  {
   "cell_type": "code",
   "outputs": [],
   "source": [
    "import json\n",
    "all_movie = {}\n",
    "for index, row in u_frame.iterrows():\n",
    "    movie = row.tolist()\n",
    "    key = f'{movie[0]}'\n",
    "    item = f'{movie[0]}, Genre: {movie[1]}'\n",
    "    all_movie[key] = item\n",
    "\n",
    "with open(f\"user_study/movieLensTitles.json\", \"w\", encoding='utf-8') as fj:\n",
    "    json.dump(all_movie, fj)"
   ],
   "metadata": {
    "collapsed": false,
    "ExecuteTime": {
     "end_time": "2024-09-24T18:42:28.073780Z",
     "start_time": "2024-09-24T18:42:27.941600Z"
    }
   },
   "id": "5ab900c760c6e33c",
   "execution_count": 7
  },
  {
   "cell_type": "code",
   "execution_count": 2,
   "outputs": [
    {
     "data": {
      "text/plain": "            0     1  2          3\n0           1  1193  5  978300760\n1           1   661  3  978302109\n2           1   914  3  978301968\n3           1  3408  4  978300275\n4           1  2355  5  978824291\n...       ...   ... ..        ...\n1000204  6040  1091  1  956716541\n1000205  6040  1094  5  956704887\n1000206  6040   562  5  956704746\n1000207  6040  1096  4  956715648\n1000208  6040  1097  4  956715569\n\n[1000209 rows x 4 columns]",
      "text/html": "<div>\n<style scoped>\n    .dataframe tbody tr th:only-of-type {\n        vertical-align: middle;\n    }\n\n    .dataframe tbody tr th {\n        vertical-align: top;\n    }\n\n    .dataframe thead th {\n        text-align: right;\n    }\n</style>\n<table border=\"1\" class=\"dataframe\">\n  <thead>\n    <tr style=\"text-align: right;\">\n      <th></th>\n      <th>0</th>\n      <th>1</th>\n      <th>2</th>\n      <th>3</th>\n    </tr>\n  </thead>\n  <tbody>\n    <tr>\n      <th>0</th>\n      <td>1</td>\n      <td>1193</td>\n      <td>5</td>\n      <td>978300760</td>\n    </tr>\n    <tr>\n      <th>1</th>\n      <td>1</td>\n      <td>661</td>\n      <td>3</td>\n      <td>978302109</td>\n    </tr>\n    <tr>\n      <th>2</th>\n      <td>1</td>\n      <td>914</td>\n      <td>3</td>\n      <td>978301968</td>\n    </tr>\n    <tr>\n      <th>3</th>\n      <td>1</td>\n      <td>3408</td>\n      <td>4</td>\n      <td>978300275</td>\n    </tr>\n    <tr>\n      <th>4</th>\n      <td>1</td>\n      <td>2355</td>\n      <td>5</td>\n      <td>978824291</td>\n    </tr>\n    <tr>\n      <th>...</th>\n      <td>...</td>\n      <td>...</td>\n      <td>...</td>\n      <td>...</td>\n    </tr>\n    <tr>\n      <th>1000204</th>\n      <td>6040</td>\n      <td>1091</td>\n      <td>1</td>\n      <td>956716541</td>\n    </tr>\n    <tr>\n      <th>1000205</th>\n      <td>6040</td>\n      <td>1094</td>\n      <td>5</td>\n      <td>956704887</td>\n    </tr>\n    <tr>\n      <th>1000206</th>\n      <td>6040</td>\n      <td>562</td>\n      <td>5</td>\n      <td>956704746</td>\n    </tr>\n    <tr>\n      <th>1000207</th>\n      <td>6040</td>\n      <td>1096</td>\n      <td>4</td>\n      <td>956715648</td>\n    </tr>\n    <tr>\n      <th>1000208</th>\n      <td>6040</td>\n      <td>1097</td>\n      <td>4</td>\n      <td>956715569</td>\n    </tr>\n  </tbody>\n</table>\n<p>1000209 rows × 4 columns</p>\n</div>"
     },
     "execution_count": 2,
     "metadata": {},
     "output_type": "execute_result"
    }
   ],
   "source": [
    "u_data"
   ],
   "metadata": {
    "collapsed": false,
    "ExecuteTime": {
     "end_time": "2024-09-24T18:37:54.594394Z",
     "start_time": "2024-09-24T18:37:54.581375Z"
    }
   },
   "id": "1dc14c1903dcf80b"
  },
  {
   "cell_type": "code",
   "outputs": [
    {
     "data": {
      "text/plain": "    0     1  2          3\n31  1  3186  4  978300019\n27  1  1721  4  978300055\n37  1  1022  5  978300055\n22  1  1270  5  978300055\n24  1  2340  3  978300103\n36  1  1836  5  978300172\n3   1  3408  4  978300275\n47  1  1207  4  978300719\n7   1  2804  5  978300719\n21  1   720  3  978300760\n0   1  1193  5  978300760\n44  1   260  4  978300760\n9   1   919  4  978301368\n51  1   608  4  978301398\n43  1  2692  4  978301570\n41  1  1961  5  978301590\n48  1  2028  5  978301619\n18  1  3105  5  978301713\n11  1   938  4  978301752\n42  1  1962  4  978301753\n14  1  1035  5  978301753\n39  1   150  5  978301777\n17  1  2018  4  978301777\n45  1  1028  5  978301777\n26  1  1097  4  978301953\n2   1   914  3  978301968\n19  1  2797  4  978302039\n6   1  1287  5  978302039\n38  1  2762  4  978302091\n52  1  1246  4  978302091\n1   1   661  3  978302109\n13  1  2918  4  978302124\n49  1   531  4  978302149\n50  1  3114  4  978302174\n15  1  2791  4  978302188\n46  1  1029  5  978302205\n20  1  2321  3  978302205\n5   1  1197  3  978302268\n8   1   594  4  978302268\n12  1  2398  4  978302281\n28  1  1545  4  978824139\n23  1   527  5  978824195\n40  1     1  5  978824268\n33  1   588  4  978824268\n16  1  2687  3  978824268\n29  1   745  3  978824268\n10  1   595  5  978824268\n30  1  2294  4  978824291\n35  1   783  4  978824291\n4   1  2355  5  978824291\n34  1  1907  4  978824330\n32  1  1566  4  978824330\n25  1    48  5  978824351",
      "text/html": "<div>\n<style scoped>\n    .dataframe tbody tr th:only-of-type {\n        vertical-align: middle;\n    }\n\n    .dataframe tbody tr th {\n        vertical-align: top;\n    }\n\n    .dataframe thead th {\n        text-align: right;\n    }\n</style>\n<table border=\"1\" class=\"dataframe\">\n  <thead>\n    <tr style=\"text-align: right;\">\n      <th></th>\n      <th>0</th>\n      <th>1</th>\n      <th>2</th>\n      <th>3</th>\n    </tr>\n  </thead>\n  <tbody>\n    <tr>\n      <th>31</th>\n      <td>1</td>\n      <td>3186</td>\n      <td>4</td>\n      <td>978300019</td>\n    </tr>\n    <tr>\n      <th>27</th>\n      <td>1</td>\n      <td>1721</td>\n      <td>4</td>\n      <td>978300055</td>\n    </tr>\n    <tr>\n      <th>37</th>\n      <td>1</td>\n      <td>1022</td>\n      <td>5</td>\n      <td>978300055</td>\n    </tr>\n    <tr>\n      <th>22</th>\n      <td>1</td>\n      <td>1270</td>\n      <td>5</td>\n      <td>978300055</td>\n    </tr>\n    <tr>\n      <th>24</th>\n      <td>1</td>\n      <td>2340</td>\n      <td>3</td>\n      <td>978300103</td>\n    </tr>\n    <tr>\n      <th>36</th>\n      <td>1</td>\n      <td>1836</td>\n      <td>5</td>\n      <td>978300172</td>\n    </tr>\n    <tr>\n      <th>3</th>\n      <td>1</td>\n      <td>3408</td>\n      <td>4</td>\n      <td>978300275</td>\n    </tr>\n    <tr>\n      <th>47</th>\n      <td>1</td>\n      <td>1207</td>\n      <td>4</td>\n      <td>978300719</td>\n    </tr>\n    <tr>\n      <th>7</th>\n      <td>1</td>\n      <td>2804</td>\n      <td>5</td>\n      <td>978300719</td>\n    </tr>\n    <tr>\n      <th>21</th>\n      <td>1</td>\n      <td>720</td>\n      <td>3</td>\n      <td>978300760</td>\n    </tr>\n    <tr>\n      <th>0</th>\n      <td>1</td>\n      <td>1193</td>\n      <td>5</td>\n      <td>978300760</td>\n    </tr>\n    <tr>\n      <th>44</th>\n      <td>1</td>\n      <td>260</td>\n      <td>4</td>\n      <td>978300760</td>\n    </tr>\n    <tr>\n      <th>9</th>\n      <td>1</td>\n      <td>919</td>\n      <td>4</td>\n      <td>978301368</td>\n    </tr>\n    <tr>\n      <th>51</th>\n      <td>1</td>\n      <td>608</td>\n      <td>4</td>\n      <td>978301398</td>\n    </tr>\n    <tr>\n      <th>43</th>\n      <td>1</td>\n      <td>2692</td>\n      <td>4</td>\n      <td>978301570</td>\n    </tr>\n    <tr>\n      <th>41</th>\n      <td>1</td>\n      <td>1961</td>\n      <td>5</td>\n      <td>978301590</td>\n    </tr>\n    <tr>\n      <th>48</th>\n      <td>1</td>\n      <td>2028</td>\n      <td>5</td>\n      <td>978301619</td>\n    </tr>\n    <tr>\n      <th>18</th>\n      <td>1</td>\n      <td>3105</td>\n      <td>5</td>\n      <td>978301713</td>\n    </tr>\n    <tr>\n      <th>11</th>\n      <td>1</td>\n      <td>938</td>\n      <td>4</td>\n      <td>978301752</td>\n    </tr>\n    <tr>\n      <th>42</th>\n      <td>1</td>\n      <td>1962</td>\n      <td>4</td>\n      <td>978301753</td>\n    </tr>\n    <tr>\n      <th>14</th>\n      <td>1</td>\n      <td>1035</td>\n      <td>5</td>\n      <td>978301753</td>\n    </tr>\n    <tr>\n      <th>39</th>\n      <td>1</td>\n      <td>150</td>\n      <td>5</td>\n      <td>978301777</td>\n    </tr>\n    <tr>\n      <th>17</th>\n      <td>1</td>\n      <td>2018</td>\n      <td>4</td>\n      <td>978301777</td>\n    </tr>\n    <tr>\n      <th>45</th>\n      <td>1</td>\n      <td>1028</td>\n      <td>5</td>\n      <td>978301777</td>\n    </tr>\n    <tr>\n      <th>26</th>\n      <td>1</td>\n      <td>1097</td>\n      <td>4</td>\n      <td>978301953</td>\n    </tr>\n    <tr>\n      <th>2</th>\n      <td>1</td>\n      <td>914</td>\n      <td>3</td>\n      <td>978301968</td>\n    </tr>\n    <tr>\n      <th>19</th>\n      <td>1</td>\n      <td>2797</td>\n      <td>4</td>\n      <td>978302039</td>\n    </tr>\n    <tr>\n      <th>6</th>\n      <td>1</td>\n      <td>1287</td>\n      <td>5</td>\n      <td>978302039</td>\n    </tr>\n    <tr>\n      <th>38</th>\n      <td>1</td>\n      <td>2762</td>\n      <td>4</td>\n      <td>978302091</td>\n    </tr>\n    <tr>\n      <th>52</th>\n      <td>1</td>\n      <td>1246</td>\n      <td>4</td>\n      <td>978302091</td>\n    </tr>\n    <tr>\n      <th>1</th>\n      <td>1</td>\n      <td>661</td>\n      <td>3</td>\n      <td>978302109</td>\n    </tr>\n    <tr>\n      <th>13</th>\n      <td>1</td>\n      <td>2918</td>\n      <td>4</td>\n      <td>978302124</td>\n    </tr>\n    <tr>\n      <th>49</th>\n      <td>1</td>\n      <td>531</td>\n      <td>4</td>\n      <td>978302149</td>\n    </tr>\n    <tr>\n      <th>50</th>\n      <td>1</td>\n      <td>3114</td>\n      <td>4</td>\n      <td>978302174</td>\n    </tr>\n    <tr>\n      <th>15</th>\n      <td>1</td>\n      <td>2791</td>\n      <td>4</td>\n      <td>978302188</td>\n    </tr>\n    <tr>\n      <th>46</th>\n      <td>1</td>\n      <td>1029</td>\n      <td>5</td>\n      <td>978302205</td>\n    </tr>\n    <tr>\n      <th>20</th>\n      <td>1</td>\n      <td>2321</td>\n      <td>3</td>\n      <td>978302205</td>\n    </tr>\n    <tr>\n      <th>5</th>\n      <td>1</td>\n      <td>1197</td>\n      <td>3</td>\n      <td>978302268</td>\n    </tr>\n    <tr>\n      <th>8</th>\n      <td>1</td>\n      <td>594</td>\n      <td>4</td>\n      <td>978302268</td>\n    </tr>\n    <tr>\n      <th>12</th>\n      <td>1</td>\n      <td>2398</td>\n      <td>4</td>\n      <td>978302281</td>\n    </tr>\n    <tr>\n      <th>28</th>\n      <td>1</td>\n      <td>1545</td>\n      <td>4</td>\n      <td>978824139</td>\n    </tr>\n    <tr>\n      <th>23</th>\n      <td>1</td>\n      <td>527</td>\n      <td>5</td>\n      <td>978824195</td>\n    </tr>\n    <tr>\n      <th>40</th>\n      <td>1</td>\n      <td>1</td>\n      <td>5</td>\n      <td>978824268</td>\n    </tr>\n    <tr>\n      <th>33</th>\n      <td>1</td>\n      <td>588</td>\n      <td>4</td>\n      <td>978824268</td>\n    </tr>\n    <tr>\n      <th>16</th>\n      <td>1</td>\n      <td>2687</td>\n      <td>3</td>\n      <td>978824268</td>\n    </tr>\n    <tr>\n      <th>29</th>\n      <td>1</td>\n      <td>745</td>\n      <td>3</td>\n      <td>978824268</td>\n    </tr>\n    <tr>\n      <th>10</th>\n      <td>1</td>\n      <td>595</td>\n      <td>5</td>\n      <td>978824268</td>\n    </tr>\n    <tr>\n      <th>30</th>\n      <td>1</td>\n      <td>2294</td>\n      <td>4</td>\n      <td>978824291</td>\n    </tr>\n    <tr>\n      <th>35</th>\n      <td>1</td>\n      <td>783</td>\n      <td>4</td>\n      <td>978824291</td>\n    </tr>\n    <tr>\n      <th>4</th>\n      <td>1</td>\n      <td>2355</td>\n      <td>5</td>\n      <td>978824291</td>\n    </tr>\n    <tr>\n      <th>34</th>\n      <td>1</td>\n      <td>1907</td>\n      <td>4</td>\n      <td>978824330</td>\n    </tr>\n    <tr>\n      <th>32</th>\n      <td>1</td>\n      <td>1566</td>\n      <td>4</td>\n      <td>978824330</td>\n    </tr>\n    <tr>\n      <th>25</th>\n      <td>1</td>\n      <td>48</td>\n      <td>5</td>\n      <td>978824351</td>\n    </tr>\n  </tbody>\n</table>\n</div>"
     },
     "execution_count": 15,
     "metadata": {},
     "output_type": "execute_result"
    }
   ],
   "source": [
    "df_user = u_data[u_data[0] == 1].sort_values(3)\n",
    "df_user"
   ],
   "metadata": {
    "collapsed": false,
    "ExecuteTime": {
     "end_time": "2024-08-10T14:57:35.874415Z",
     "start_time": "2024-08-10T14:57:35.851895Z"
    }
   },
   "id": "ae5e482592b9409c",
   "execution_count": 15
  },
  {
   "cell_type": "code",
   "outputs": [],
   "source": [
    "tmp_dataset = u_data[u_data[2] >= 4][[0,1]].values.tolist()\n",
    "result = {}\n",
    "for user, item in tmp_dataset:\n",
    "    if user in result.keys():\n",
    "        result[user].append(item)\n",
    "    else:\n",
    "        result[user] = [item]"
   ],
   "metadata": {
    "collapsed": false,
    "ExecuteTime": {
     "end_time": "2024-08-03T15:58:58.545864Z",
     "start_time": "2024-08-03T15:58:58.019311Z"
    }
   },
   "id": "d26e047310b2dab5",
   "execution_count": 12
  },
  {
   "cell_type": "code",
   "outputs": [
    {
     "data": {
      "text/plain": "954"
     },
     "execution_count": 18,
     "metadata": {},
     "output_type": "execute_result"
    }
   ],
   "source": [
    "len_data = []\n",
    "for user in result.keys():\n",
    "    len_data.append(len(result[user]))\n",
    "len_data.sort()\n",
    "len_data.index(21)"
   ],
   "metadata": {
    "collapsed": false,
    "ExecuteTime": {
     "end_time": "2024-08-03T16:01:45.940659Z",
     "start_time": "2024-08-03T16:01:45.930087Z"
    }
   },
   "id": "a0734102e736c63a",
   "execution_count": 18
  },
  {
   "cell_type": "code",
   "outputs": [
    {
     "data": {
      "text/plain": "5084"
     },
     "execution_count": 19,
     "metadata": {},
     "output_type": "execute_result"
    }
   ],
   "source": [
    "6038-954"
   ],
   "metadata": {
    "collapsed": false,
    "ExecuteTime": {
     "end_time": "2024-08-03T16:01:55.212515Z",
     "start_time": "2024-08-03T16:01:55.208511Z"
    }
   },
   "id": "b81e86be97840b00",
   "execution_count": 19
  },
  {
   "cell_type": "code",
   "outputs": [
    {
     "data": {
      "text/plain": "       0                                                  1          2\n711  720  Wallace & Gromit: The Best of Aardman Animatio...  Animation",
      "text/html": "<div>\n<style scoped>\n    .dataframe tbody tr th:only-of-type {\n        vertical-align: middle;\n    }\n\n    .dataframe tbody tr th {\n        vertical-align: top;\n    }\n\n    .dataframe thead th {\n        text-align: right;\n    }\n</style>\n<table border=\"1\" class=\"dataframe\">\n  <thead>\n    <tr style=\"text-align: right;\">\n      <th></th>\n      <th>0</th>\n      <th>1</th>\n      <th>2</th>\n    </tr>\n  </thead>\n  <tbody>\n    <tr>\n      <th>711</th>\n      <td>720</td>\n      <td>Wallace &amp; Gromit: The Best of Aardman Animatio...</td>\n      <td>Animation</td>\n    </tr>\n  </tbody>\n</table>\n</div>"
     },
     "execution_count": 19,
     "metadata": {},
     "output_type": "execute_result"
    }
   ],
   "source": [
    "u_movie[u_movie[0] == 720]"
   ],
   "metadata": {
    "collapsed": false,
    "ExecuteTime": {
     "end_time": "2024-08-10T15:00:01.458505Z",
     "start_time": "2024-08-10T15:00:01.446473Z"
    }
   },
   "id": "19c2da51d98c2cc",
   "execution_count": 19
  },
  {
   "cell_type": "code",
   "outputs": [
    {
     "data": {
      "text/plain": "         0                                   1                             2\n0        1                    Toy Story (1995)   Animation|Children's|Comedy\n1        2                      Jumanji (1995)  Adventure|Children's|Fantasy\n2        3             Grumpier Old Men (1995)                Comedy|Romance\n3        4            Waiting to Exhale (1995)                  Comedy|Drama\n4        5  Father of the Bride Part II (1995)                        Comedy\n...    ...                                 ...                           ...\n3878  3948             Meet the Parents (2000)                        Comedy\n3879  3949          Requiem for a Dream (2000)                         Drama\n3880  3950                    Tigerland (2000)                         Drama\n3881  3951             Two Family House (2000)                         Drama\n3882  3952               Contender, The (2000)                Drama|Thriller\n\n[3883 rows x 3 columns]",
      "text/html": "<div>\n<style scoped>\n    .dataframe tbody tr th:only-of-type {\n        vertical-align: middle;\n    }\n\n    .dataframe tbody tr th {\n        vertical-align: top;\n    }\n\n    .dataframe thead th {\n        text-align: right;\n    }\n</style>\n<table border=\"1\" class=\"dataframe\">\n  <thead>\n    <tr style=\"text-align: right;\">\n      <th></th>\n      <th>0</th>\n      <th>1</th>\n      <th>2</th>\n    </tr>\n  </thead>\n  <tbody>\n    <tr>\n      <th>0</th>\n      <td>1</td>\n      <td>Toy Story (1995)</td>\n      <td>Animation|Children's|Comedy</td>\n    </tr>\n    <tr>\n      <th>1</th>\n      <td>2</td>\n      <td>Jumanji (1995)</td>\n      <td>Adventure|Children's|Fantasy</td>\n    </tr>\n    <tr>\n      <th>2</th>\n      <td>3</td>\n      <td>Grumpier Old Men (1995)</td>\n      <td>Comedy|Romance</td>\n    </tr>\n    <tr>\n      <th>3</th>\n      <td>4</td>\n      <td>Waiting to Exhale (1995)</td>\n      <td>Comedy|Drama</td>\n    </tr>\n    <tr>\n      <th>4</th>\n      <td>5</td>\n      <td>Father of the Bride Part II (1995)</td>\n      <td>Comedy</td>\n    </tr>\n    <tr>\n      <th>...</th>\n      <td>...</td>\n      <td>...</td>\n      <td>...</td>\n    </tr>\n    <tr>\n      <th>3878</th>\n      <td>3948</td>\n      <td>Meet the Parents (2000)</td>\n      <td>Comedy</td>\n    </tr>\n    <tr>\n      <th>3879</th>\n      <td>3949</td>\n      <td>Requiem for a Dream (2000)</td>\n      <td>Drama</td>\n    </tr>\n    <tr>\n      <th>3880</th>\n      <td>3950</td>\n      <td>Tigerland (2000)</td>\n      <td>Drama</td>\n    </tr>\n    <tr>\n      <th>3881</th>\n      <td>3951</td>\n      <td>Two Family House (2000)</td>\n      <td>Drama</td>\n    </tr>\n    <tr>\n      <th>3882</th>\n      <td>3952</td>\n      <td>Contender, The (2000)</td>\n      <td>Drama|Thriller</td>\n    </tr>\n  </tbody>\n</table>\n<p>3883 rows × 3 columns</p>\n</div>"
     },
     "execution_count": 2,
     "metadata": {},
     "output_type": "execute_result"
    }
   ],
   "source": [
    "u_movie"
   ],
   "metadata": {
    "collapsed": false,
    "ExecuteTime": {
     "end_time": "2024-09-30T12:54:38.379446Z",
     "start_time": "2024-09-30T12:54:38.367275Z"
    }
   },
   "id": "1c5fe3f1d64c2b15",
   "execution_count": 2
  },
  {
   "cell_type": "code",
   "outputs": [],
   "source": [
    "import json\n",
    "\n",
    "id2item = {}\n",
    "item2id = {}\n",
    "\n",
    "for index, row in u_movie.iterrows():\n",
    "    info = row.tolist()\n",
    "    title = f\"{info[1]}\"\n",
    "    \n",
    "    id2item[str(index)] = title\n",
    "    item2id[title] = index\n",
    "\n",
    "with open('training_data/datamaps.json', 'w', encoding='utf-8') as f:\n",
    "    json.dump({\"id2item_dict\": id2item, \"item2id_dict\": item2id}, f)"
   ],
   "metadata": {
    "collapsed": false,
    "ExecuteTime": {
     "end_time": "2024-09-30T14:07:34.676564Z",
     "start_time": "2024-09-30T14:07:34.543048Z"
    }
   },
   "id": "9d5d83f942e3964a",
   "execution_count": 3
  },
  {
   "cell_type": "code",
   "outputs": [
    {
     "data": {
      "text/plain": "['Toy Story (1995)',\n 'Jumanji (1995)',\n 'Grumpier Old Men (1995)',\n 'Waiting to Exhale (1995)',\n 'Father of the Bride Part II (1995)',\n 'Heat (1995)',\n 'Sabrina (1995)',\n 'Tom and Huck (1995)',\n 'Sudden Death (1995)',\n 'GoldenEye (1995)',\n 'American President, The (1995)',\n 'Dracula: Dead and Loving It (1995)',\n 'Balto (1995)',\n 'Nixon (1995)',\n 'Cutthroat Island (1995)',\n 'Casino (1995)',\n 'Sense and Sensibility (1995)',\n 'Four Rooms (1995)',\n 'Ace Ventura: When Nature Calls (1995)',\n 'Money Train (1995)',\n 'Get Shorty (1995)',\n 'Copycat (1995)',\n 'Assassins (1995)',\n 'Powder (1995)',\n 'Leaving Las Vegas (1995)',\n 'Othello (1995)',\n 'Now and Then (1995)',\n 'Persuasion (1995)',\n 'City of Lost Children, The (1995)',\n 'Shanghai Triad (Yao a yao yao dao waipo qiao) (1995)',\n 'Dangerous Minds (1995)',\n 'Twelve Monkeys (1995)',\n 'Wings of Courage (1995)',\n 'Babe (1995)',\n 'Carrington (1995)',\n 'Dead Man Walking (1995)',\n 'Across the Sea of Time (1995)',\n 'It Takes Two (1995)',\n 'Clueless (1995)',\n 'Cry, the Beloved Country (1995)',\n 'Richard III (1995)',\n 'Dead Presidents (1995)',\n 'Restoration (1995)',\n 'Mortal Kombat (1995)',\n 'To Die For (1995)',\n 'How to Make an American Quilt (1995)',\n 'Seven (Se7en) (1995)',\n 'Pocahontas (1995)',\n 'When Night Is Falling (1995)',\n 'Usual Suspects, The (1995)',\n 'Guardian Angel (1994)',\n 'Mighty Aphrodite (1995)',\n 'Lamerica (1994)',\n 'Big Green, The (1995)',\n 'Georgia (1995)',\n 'Kids of the Round Table (1995)',\n 'Home for the Holidays (1995)',\n 'Postino, Il (The Postman) (1994)',\n 'Confessional, The (Le Confessionnal) (1995)',\n 'Indian in the Cupboard, The (1995)',\n 'Eye for an Eye (1996)',\n \"Mr. Holland's Opus (1995)\",\n \"Don't Be a Menace to South Central While Drinking Your Juice in the Hood (1996)\",\n 'Two if by Sea (1996)',\n 'Bio-Dome (1996)',\n 'Lawnmower Man 2: Beyond Cyberspace (1996)',\n 'Two Bits (1995)',\n 'French Twist (Gazon maudit) (1995)',\n 'Friday (1995)',\n 'From Dusk Till Dawn (1996)',\n 'Fair Game (1995)',\n 'Kicking and Screaming (1995)',\n 'Misérables, Les (1995)',\n 'Bed of Roses (1996)',\n 'Big Bully (1996)',\n 'Screamers (1995)',\n 'Nico Icon (1995)',\n 'Crossing Guard, The (1995)',\n 'Juror, The (1996)',\n 'White Balloon, The (Badkonake Sefid ) (1995)',\n \"Things to Do in Denver when You're Dead (1995)\",\n \"Antonia's Line (Antonia) (1995)\",\n 'Once Upon a Time... When We Were Colored (1995)',\n 'Last Summer in the Hamptons (1995)',\n 'Angels and Insects (1995)',\n 'White Squall (1996)',\n 'Dunston Checks In (1996)',\n 'Black Sheep (1996)',\n 'Nick of Time (1995)',\n 'Journey of August King, The (1995)',\n 'Mary Reilly (1996)',\n 'Vampire in Brooklyn (1995)',\n 'Beautiful Girls (1996)',\n 'Broken Arrow (1996)',\n 'In the Bleak Midwinter (1995)',\n 'Hate (Haine, La) (1995)',\n 'Shopping (1994)',\n 'Heidi Fleiss: Hollywood Madam (1995)',\n 'City Hall (1996)',\n 'Bottle Rocket (1996)',\n 'Mr. Wrong (1996)',\n 'Unforgettable (1996)',\n 'Happy Gilmore (1996)',\n 'Bridges of Madison County, The (1995)',\n 'Nobody Loves Me (Keiner liebt mich) (1994)',\n 'Muppet Treasure Island (1996)',\n 'Catwalk (1995)',\n 'Headless Body in Topless Bar (1995)',\n 'Braveheart (1995)',\n 'Taxi Driver (1976)',\n 'Rumble in the Bronx (1995)',\n 'Before and After (1996)',\n \"Margaret's Museum (1995)\",\n 'Happiness Is in the Field (1995)',\n 'Anne Frank Remembered (1995)',\n \"Young Poisoner's Handbook, The (1995)\",\n 'If Lucy Fell (1996)',\n 'Steal Big, Steal Little (1995)',\n 'Race the Sun (1996)',\n 'Boys of St. Vincent, The (1993)',\n 'Boomerang (1992)',\n 'Chungking Express (1994)',\n \"Star Maker, The (Uomo delle stelle, L') (1995)\",\n 'Flirting With Disaster (1996)',\n 'NeverEnding Story III, The (1994)',\n 'Silence of the Palace, The (Saimt el Qusur) (1994)',\n \"Jupiter's Wife (1994)\",\n 'Pie in the Sky (1995)',\n 'Angela (1995)',\n 'Frankie Starlight (1995)',\n 'Jade (1995)',\n 'Nueba Yol (1995)',\n 'Sonic Outlaws (1995)',\n 'Down Periscope (1996)',\n 'From the Journals of Jean Seberg (1995)',\n 'Man of the Year (1995)',\n 'Neon Bible, The (1995)',\n 'Target (1995)',\n 'Up Close and Personal (1996)',\n 'Birdcage, The (1996)',\n 'Shadows (Cienie) (1988)',\n 'Gospa (1995)',\n 'Brothers McMullen, The (1995)',\n 'Bad Boys (1995)',\n 'Amazing Panda Adventure, The (1995)',\n 'Basketball Diaries, The (1995)',\n 'Awfully Big Adventure, An (1995)',\n 'Amateur (1994)',\n 'Apollo 13 (1995)',\n 'Rob Roy (1995)',\n 'Addiction, The (1995)',\n 'Batman Forever (1995)',\n 'Belle de jour (1967)',\n 'Beyond Rangoon (1995)',\n 'Blue in the Face (1995)',\n 'Canadian Bacon (1994)',\n 'Casper (1995)',\n 'Clockers (1995)',\n 'Congo (1995)',\n 'Crimson Tide (1995)',\n 'Crumb (1994)',\n 'Desperado (1995)',\n 'Devil in a Blue Dress (1995)',\n 'Die Hard: With a Vengeance (1995)',\n 'Doom Generation, The (1995)',\n 'Feast of July (1995)',\n 'First Knight (1995)',\n 'Free Willy 2: The Adventure Home (1995)',\n 'Hackers (1995)',\n 'Jeffrey (1995)',\n 'Johnny Mnemonic (1995)',\n 'Judge Dredd (1995)',\n 'Jury Duty (1995)',\n 'Kids (1995)',\n 'Living in Oblivion (1995)',\n 'Lord of Illusions (1995)',\n 'Love & Human Remains (1993)',\n 'Mad Love (1995)',\n 'Mallrats (1995)',\n 'Mighty Morphin Power Rangers: The Movie (1995)',\n 'Moonlight and Valentino (1995)',\n 'Mute Witness (1994)',\n 'Nadja (1994)',\n 'Net, The (1995)',\n 'Nine Months (1995)',\n 'Party Girl (1995)',\n 'Prophecy, The (1995)',\n 'Reckless (1995)',\n 'Safe (1995)',\n 'Scarlet Letter, The (1995)',\n 'Show, The (1995)',\n 'Showgirls (1995)',\n 'Smoke (1995)',\n 'Something to Talk About (1995)',\n 'Species (1995)',\n 'Stars Fell on Henrietta, The (1995)',\n 'Strange Days (1995)',\n 'Umbrellas of Cherbourg, The (Parapluies de Cherbourg, Les) (1964)',\n 'Tie That Binds, The (1995)',\n 'Three Wishes (1995)',\n 'Total Eclipse (1995)',\n 'To Wong Foo, Thanks for Everything! Julie Newmar (1995)',\n 'Under Siege 2: Dark Territory (1995)',\n 'Unstrung Heroes (1995)',\n 'Unzipped (1995)',\n 'Walk in the Clouds, A (1995)',\n 'Waterworld (1995)',\n \"White Man's Burden (1995)\",\n 'Wild Bill (1995)',\n 'Browning Version, The (1994)',\n 'Bushwhacked (1995)',\n 'Burnt By the Sun (Utomlyonnye solntsem) (1994)',\n 'Before the Rain (Pred dozhdot) (1994)',\n 'Before Sunrise (1995)',\n 'Billy Madison (1995)',\n 'Babysitter, The (1995)',\n 'Boys on the Side (1995)',\n 'Cure, The (1995)',\n 'Castle Freak (1995)',\n 'Circle of Friends (1995)',\n 'Clerks (1994)',\n 'Don Juan DeMarco (1995)',\n 'Disclosure (1994)',\n 'Dream Man (1995)',\n 'Drop Zone (1994)',\n 'Destiny Turns on the Radio (1995)',\n 'Death and the Maiden (1994)',\n 'Dolores Claiborne (1994)',\n 'Dumb & Dumber (1994)',\n 'Eat Drink Man Woman (1994)',\n 'Exotica (1994)',\n 'Exit to Eden (1994)',\n 'Ed Wood (1994)',\n 'French Kiss (1995)',\n 'Forget Paris (1995)',\n 'Far From Home: The Adventures of Yellow Dog (1995)',\n 'Goofy Movie, A (1995)',\n 'Hideaway (1995)',\n 'Fluke (1995)',\n 'Farinelli: il castrato (1994)',\n 'Gordy (1995)',\n 'Gumby: The Movie (1995)',\n 'Glass Shield, The (1994)',\n 'Hoop Dreams (1994)',\n 'Heavenly Creatures (1994)',\n 'Houseguest (1994)',\n 'Immortal Beloved (1994)',\n 'Heavyweights (1994)',\n 'Hunted, The (1995)',\n 'I.Q. (1994)',\n 'Interview with the Vampire (1994)',\n 'Jefferson in Paris (1995)',\n 'Jerky Boys, The (1994)',\n 'Junior (1994)',\n 'Just Cause (1995)',\n \"Kid in King Arthur's Court, A (1995)\",\n 'Kiss of Death (1995)',\n 'Star Wars: Episode IV - A New Hope (1977)',\n 'Little Women (1994)',\n 'Little Princess, A (1995)',\n 'Ladybird Ladybird (1994)',\n \"Enfer, L' (1994)\",\n 'Like Water for Chocolate (Como agua para chocolate) (1992)',\n 'Legends of the Fall (1994)',\n 'Major Payne (1994)',\n 'Little Odessa (1994)',\n 'My Crazy Life (Mi vida loca) (1993)',\n 'Love Affair (1994)',\n 'Losing Isaiah (1995)',\n 'Madness of King George, The (1994)',\n \"Mary Shelley's Frankenstein (1994)\",\n 'Man of the House (1995)',\n 'Mixed Nuts (1994)',\n 'Milk Money (1994)',\n 'Miracle on 34th Street (1994)',\n 'Miami Rhapsody (1995)',\n 'My Family (1995)',\n 'Murder in the First (1995)',\n \"Nobody's Fool (1994)\",\n 'Nell (1994)',\n 'New Jersey Drive (1995)',\n 'New York Cop (1996)',\n 'Beyond Bedlam (1993)',\n 'Nemesis 2: Nebula (1995)',\n 'Nina Takes a Lover (1994)',\n 'Natural Born Killers (1994)',\n 'Only You (1994)',\n 'Once Were Warriors (1994)',\n 'Poison Ivy II (1995)',\n 'Outbreak (1995)',\n 'Professional, The (a.k.a. Leon: The Professional) (1994)',\n 'Perez Family, The (1995)',\n \"Pyromaniac's Love Story, A (1995)\",\n 'Pulp Fiction (1994)',\n 'Panther (1995)',\n 'Pushing Hands (1992)',\n 'Priest (1994)',\n 'Quiz Show (1994)',\n 'Picture Bride (1995)',\n 'Queen Margot (La Reine Margot) (1994)',\n 'Quick and the Dead, The (1995)',\n 'Roommates (1995)',\n 'Ready to Wear (Pret-A-Porter) (1994)',\n 'Three Colors: Red (1994)',\n 'Three Colors: Blue (1993)',\n 'Three Colors: White (1994)',\n 'Red Firecracker, Green Firecracker (1994)',\n 'Rent-a-Kid (1995)',\n 'Relative Fear (1994)',\n 'Stuart Saves His Family (1995)',\n 'Swan Princess, The (1994)',\n 'Secret of Roan Inish, The (1994)',\n 'Specialist, The (1994)',\n 'Stargate (1994)',\n 'Santa Clause, The (1994)',\n 'Shawshank Redemption, The (1994)',\n 'Shallow Grave (1994)',\n 'Suture (1993)',\n 'Strawberry and Chocolate (Fresa y chocolate) (1993)',\n 'Swimming with Sharks (1995)',\n 'Sum of Us, The (1994)',\n \"National Lampoon's Senior Trip (1995)\",\n 'To Live (Huozhe) (1994)',\n 'Tank Girl (1995)',\n 'Tales From the Crypt Presents: Demon Knight (1995)',\n 'Star Trek: Generations (1994)',\n 'Tales from the Hood (1995)',\n 'Tom & Viv (1994)',\n 'Village of the Damned (1995)',\n 'Tommy Boy (1995)',\n 'Vanya on 42nd Street (1994)',\n 'Underneath, The (1995)',\n 'Walking Dead, The (1995)',\n \"What's Eating Gilbert Grape (1993)\",\n 'Virtuosity (1995)',\n 'While You Were Sleeping (1995)',\n 'War, The (1994)',\n 'Double Happiness (1994)',\n \"Muriel's Wedding (1994)\",\n 'Baby-Sitters Club, The (1995)',\n 'Ace Ventura: Pet Detective (1994)',\n 'Adventures of Priscilla, Queen of the Desert, The (1994)',\n 'Backbeat (1993)',\n 'Bitter Moon (1992)',\n 'Bullets Over Broadway (1994)',\n 'Clear and Present Danger (1994)',\n 'Client, The (1994)',\n 'Corrina, Corrina (1994)',\n 'Crooklyn (1994)',\n 'Crow, The (1994)',\n 'Cobb (1994)',\n 'Flintstones, The (1994)',\n 'Forrest Gump (1994)',\n 'Four Weddings and a Funeral (1994)',\n 'Higher Learning (1995)',\n 'I Like It Like That (1994)',\n 'I Love Trouble (1994)',\n 'It Could Happen to You (1994)',\n 'Jungle Book, The (1994)',\n 'Wonderful, Horrible Life of Leni Riefenstahl, The (Die Macht der Bilder) (1993)',\n 'Lion King, The (1994)',\n 'Little Buddha (1993)',\n \"Wes Craven's New Nightmare (1994)\",\n 'Mask, The (1994)',\n 'Maverick (1994)',\n 'Mrs. Parker and the Vicious Circle (1994)',\n 'Naked Gun 33 1/3: The Final Insult (1994)',\n 'Paper, The (1994)',\n 'Reality Bites (1994)',\n 'Red Rock West (1992)',\n 'Richie Rich (1994)',\n 'Safe Passage (1994)',\n 'River Wild, The (1994)',\n 'Speed (1994)',\n 'Speechless (1994)',\n 'Timecop (1994)',\n 'True Lies (1994)',\n 'When a Man Loves a Woman (1994)',\n 'Wolf (1994)',\n 'Wyatt Earp (1994)',\n 'Bad Company (1995)',\n 'Man of No Importance, A (1994)',\n 'S.F.W. (1994)',\n 'Low Down Dirty Shame, A (1994)',\n 'Boys Life (1995)',\n 'Colonel Chabert, Le (1994)',\n 'Faster Pussycat! Kill! Kill! (1965)',\n \"Jason's Lyric (1994)\",\n 'Secret Adventures of Tom Thumb, The (1993)',\n 'Street Fighter (1994)',\n 'Coldblooded (1995)',\n 'Desert Winds (1995)',\n 'Fall Time (1995)',\n 'Fear, The (1995)',\n 'Frank and Ollie (1995)',\n 'Girl in the Cadillac (1995)',\n 'Homage (1995)',\n 'Mirage (1995)',\n 'Open Season (1996)',\n 'Two Crimes (1995)',\n 'Brother Minister: The Assassination of Malcolm X (1994)',\n 'Highlander III: The Sorcerer (1994)',\n 'Federal Hill (1994)',\n 'In the Mouth of Madness (1995)',\n '8 Seconds (1994)',\n 'Above the Rim (1994)',\n 'Addams Family Values (1993)',\n 'You So Crazy (1994)',\n 'Age of Innocence, The (1993)',\n 'Airheads (1994)',\n 'Air Up There, The (1994)',\n 'Another Stakeout (1993)',\n 'Bad Girls (1994)',\n 'Barcelona (1994)',\n 'Being Human (1993)',\n 'Beverly Hillbillies, The (1993)',\n 'Beverly Hills Cop III (1994)',\n 'Black Beauty (1994)',\n 'Blink (1994)',\n 'Blown Away (1994)',\n 'Blue Chips (1994)',\n 'Blue Sky (1994)',\n 'Body Snatchers (1993)',\n 'Boxing Helena (1993)',\n 'Bronx Tale, A (1993)',\n 'Cabin Boy (1994)',\n 'Calendar Girl (1993)',\n \"Carlito's Way (1993)\",\n \"City Slickers II: The Legend of Curly's Gold (1994)\",\n 'Clean Slate (1994)',\n 'Cliffhanger (1993)',\n 'Coneheads (1993)',\n 'Color of Night (1994)',\n 'Cops and Robbersons (1994)',\n 'Cowboy Way, The (1994)',\n 'Dangerous Game (1993)',\n 'Dave (1993)',\n 'Dazed and Confused (1993)',\n 'Demolition Man (1993)',\n 'Endless Summer 2, The (1994)',\n 'Even Cowgirls Get the Blues (1993)',\n 'Fatal Instinct (1993)',\n 'Farewell My Concubine (1993)',\n 'Favor, The (1994)',\n 'Fearless (1993)',\n 'Fear of a Black Hat (1993)',\n 'With Honors (1994)',\n 'Flesh and Bone (1993)',\n \"Widows' Peak (1994)\",\n 'For Love or Money (1993)',\n 'Firm, The (1993)',\n 'Free Willy (1993)',\n 'Fresh (1994)',\n 'Fugitive, The (1993)',\n 'Geronimo: An American Legend (1993)',\n 'Getaway, The (1994)',\n 'Getting Even with Dad (1994)',\n 'Go Fish (1994)',\n 'Good Man in Africa, A (1994)',\n 'Guilty as Sin (1993)',\n 'Hard Target (1993)',\n 'Heaven & Earth (1993)',\n 'Hot Shots! Part Deux (1993)',\n 'Live Nude Girls (1995)',\n 'Englishman Who Went Up a Hill, But Came Down a Mountain, The (1995)',\n 'House of the Spirits, The (1993)',\n 'House Party 3 (1994)',\n 'Hudsucker Proxy, The (1994)',\n \"I'll Do Anything (1994)\",\n 'In the Army Now (1994)',\n 'In the Line of Fire (1993)',\n 'In the Name of the Father (1993)',\n 'Inkwell, The (1994)',\n \"What's Love Got to Do with It? (1993)\",\n 'Jimmy Hollywood (1994)',\n 'Judgment Night (1993)',\n 'Jurassic Park (1993)',\n 'Kalifornia (1993)',\n 'Killing Zoe (1994)',\n 'King of the Hill (1993)',\n 'Lassie (1994)',\n 'Last Action Hero (1993)',\n 'Life with Mikey (1993)',\n 'Lightning Jack (1994)',\n 'M. Butterfly (1993)',\n 'Made in America (1993)',\n 'Malice (1993)',\n 'Man Without a Face, The (1993)',\n 'Manhattan Murder Mystery (1993)',\n 'Menace II Society (1993)',\n 'Executive Decision (1996)',\n 'In the Realm of the Senses (Ai no corrida) (1976)',\n 'What Happened Was... (1994)',\n 'Much Ado About Nothing (1993)',\n 'Mr. Jones (1993)',\n 'Mr. Wonderful (1993)',\n 'Mrs. Doubtfire (1993)',\n 'Naked (1993)',\n 'Next Karate Kid, The (1994)',\n 'New Age, The (1994)',\n 'No Escape (1994)',\n 'North (1994)',\n 'Orlando (1993)',\n 'Perfect World, A (1993)',\n 'Philadelphia (1993)',\n 'Piano, The (1993)',\n 'Poetic Justice (1993)',\n 'Program, The (1993)',\n \"Robert A. Heinlein's The Puppet Masters (1994)\",\n 'Radioland Murders (1994)',\n 'Ref, The (1994)',\n 'Remains of the Day, The (1993)',\n 'Renaissance Man (1994)',\n 'Rising Sun (1993)',\n 'Road to Wellville, The (1994)',\n 'Robocop 3 (1993)',\n 'Robin Hood: Men in Tights (1993)',\n 'Romeo Is Bleeding (1993)',\n 'Romper Stomper (1992)',\n 'Ruby in Paradise (1993)',\n 'Rudy (1993)',\n 'Saint of Fort Washington, The (1993)',\n 'Savage Nights (Nuits fauves, Les) (1992)',\n \"Schindler's List (1993)\",\n 'Scout, The (1994)',\n 'Searching for Bobby Fischer (1993)',\n 'Second Best (1994)',\n 'Secret Garden, The (1993)',\n 'Serial Mom (1994)',\n 'Shadow, The (1994)',\n 'Shadowlands (1993)',\n 'Short Cuts (1993)',\n 'Simple Twist of Fate, A (1994)',\n 'Sirens (1994)',\n 'Six Degrees of Separation (1993)',\n 'Sleepless in Seattle (1993)',\n 'Sliver (1993)',\n 'Blade Runner (1982)',\n 'Son in Law (1993)',\n 'So I Married an Axe Murderer (1993)',\n 'Striking Distance (1993)',\n 'Harlem (1993)',\n 'Super Mario Bros. (1993)',\n 'Surviving the Game (1994)',\n 'Terminal Velocity (1994)',\n 'Thirty-Two Short Films About Glenn Gould (1993)',\n 'Threesome (1994)',\n 'Nightmare Before Christmas, The (1993)',\n 'Three Musketeers, The (1993)',\n 'Tombstone (1993)',\n 'Trial by Jury (1994)',\n 'True Romance (1993)',\n 'War Room, The (1993)',\n 'Mamma Roma (1962)',\n 'Pagemaster, The (1994)',\n 'Paris, France (1993)',\n 'Beans of Egypt, Maine, The (1994)',\n 'Killer (Bulletproof Heart) (1994)',\n 'Welcome to the Dollhouse (1995)',\n 'Germinal (1993)',\n 'Chasers (1994)',\n 'Cronos (1992)',\n 'Naked in New York (1994)',\n 'Kika (1993)',\n 'Bhaji on the Beach (1993)',\n 'Little Big League (1994)',\n 'Slingshot, The (Kådisbellan ) (1993)',\n 'Wedding Gift, The (1994)',\n 'Foreign Student (1994)',\n 'Ciao, Professore! (Io speriamo che me la cavo ) (1993)',\n 'Spanking the Monkey (1994)',\n 'Little Rascals, The (1994)',\n 'Fausto (1993)',\n 'Andre (1994)',\n 'Hour of the Pig, The (1993)',\n 'Scorta, La (1993)',\n 'Princess Caraboo (1994)',\n 'Celluloid Closet, The (1995)',\n 'Metisse (Café au Lait) (1993)',\n 'Dear Diary (Caro Diario) (1994)',\n \"I Don't Want to Talk About It (De eso no se habla) (1993)\",\n 'Brady Bunch Movie, The (1995)',\n 'Home Alone (1990)',\n 'Ghost (1990)',\n 'Aladdin (1992)',\n 'Terminator 2: Judgment Day (1991)',\n 'Dances with Wolves (1990)',\n 'Tough and Deadly (1995)',\n 'Batman (1989)',\n 'Silence of the Lambs, The (1991)',\n 'Snow White and the Seven Dwarfs (1937)',\n 'Beauty and the Beast (1991)',\n 'Pinocchio (1940)',\n 'Pretty Woman (1990)',\n 'Window to Paris (1994)',\n 'Wild Bunch, The (1969)',\n 'Love and a .45 (1994)',\n \"Wooden Man's Bride, The (Wu Kui) (1994)\",\n 'Great Day in Harlem, A (1994)',\n 'Bye Bye, Love (1995)',\n 'Criminals (1996)',\n 'One Fine Day (1996)',\n 'Candyman: Farewell to the Flesh (1995)',\n 'Century (1993)',\n 'Fargo (1996)',\n 'Homeward Bound II: Lost in San Francisco (1996)',\n 'Heavy Metal (1981)',\n 'Hellraiser: Bloodline (1996)',\n 'Pallbearer, The (1996)',\n 'Jane Eyre (1996)',\n 'Loaded (1994)',\n 'Bread and Chocolate (Pane e cioccolata) (1973)',\n 'Aristocats, The (1970)',\n 'Flower of My Secret, The (La Flor de Mi Secreto) (1995)',\n 'Two Much (1996)',\n 'Ed (1996)',\n 'Scream of Stone (Schrei aus Stein) (1991)',\n 'My Favorite Season (1993)',\n 'Modern Affair, A (1995)',\n 'Condition Red (1995)',\n 'Asfour Stah (1990)',\n 'Thin Line Between Love and Hate, A (1996)',\n 'Last Supper, The (1995)',\n 'Primal Fear (1996)',\n 'Rude (1995)',\n 'Carried Away (1996)',\n 'All Dogs Go to Heaven 2 (1996)',\n 'Land and Freedom (Tierra y libertad) (1995)',\n 'Denise Calls Up (1995)',\n 'Theodore Rex (1995)',\n 'Family Thing, A (1996)',\n 'Frisk (1995)',\n 'Sgt. Bilko (1996)',\n 'Jack and Sarah (1995)',\n 'Girl 6 (1996)',\n 'Diabolique (1996)',\n 'Little Indian, Big City (Un indien dans la ville) (1994)',\n 'Roula (1995)',\n 'Peanuts - Die Bank zahlt alles (1996)',\n 'Happy Weekend (1996)',\n 'Nelly & Monsieur Arnaud (1995)',\n 'Courage Under Fire (1996)',\n 'Mission: Impossible (1996)',\n 'Cold Fever (Á köldum klaka) (1994)',\n 'Moll Flanders (1996)',\n 'Superweib, Das (1996)',\n '301, 302 (1995)',\n 'Dragonheart (1996)',\n 'Und keiner weint mir nach (1996)',\n 'Mutters Courage (1995)',\n 'Eddie (1996)',\n 'Yankee Zulu (1994)',\n \"Billy's Holiday (1995)\",\n 'Purple Noon (1960)',\n 'August (1996)',\n 'James and the Giant Peach (1996)',\n 'Fear (1996)',\n 'Kids in the Hall: Brain Candy (1996)',\n 'Faithful (1996)',\n 'Underground (1995)',\n 'All Things Fair (1996)',\n 'Bloodsport 2 (1995)',\n 'Pather Panchali (1955)',\n 'Aparajito (1956)',\n 'World of Apu, The (Apur Sansar) (1959)',\n 'Mystery Science Theater 3000: The Movie (1996)',\n 'Tarantella (1995)',\n 'Space Jam (1996)',\n 'Barbarella (1968)',\n 'Hostile Intentions (1994)',\n 'They Bite (1996)',\n 'Some Folks Call It a Sling Blade (1993)',\n 'Run of the Country, The (1995)',\n 'Alphaville (1965)',\n 'Clean Slate (Coup de Torchon) (1981)',\n 'Tigrero: A Film That Was Never Made (1994)',\n \"Eye of Vichy, The (Oeil de Vichy, L') (1993)\",\n 'Windows (1980)',\n \"It's My Party (1995)\",\n 'Country Life (1994)',\n 'Operation Dumbo Drop (1995)',\n 'Promise, The (Versprechen, Das) (1994)',\n 'Mrs. Winterbourne (1996)',\n 'Solo (1996)',\n 'Under the Domin Tree (Etz Hadomim Tafus) (1994)',\n 'Substitute, The (1996)',\n 'True Crime (1995)',\n 'Butterfly Kiss (1995)',\n 'Feeling Minnesota (1996)',\n 'Delta of Venus (1994)',\n 'To Cross the Rubicon (1991)',\n 'Angus (1995)',\n 'Daens (1992)',\n 'Faces (1968)',\n 'Boys (1996)',\n 'Quest, The (1996)',\n 'Cosi (1996)',\n 'Sunset Park (1996)',\n 'Mulholland Falls (1996)',\n 'Truth About Cats & Dogs, The (1996)',\n 'Oliver & Company (1988)',\n 'Celtic Pride (1996)',\n 'Flipper (1996)',\n 'Captives (1994)',\n 'Of Love and Shadows (1994)',\n 'Dead Man (1995)',\n 'Horseman on the Roof, The (Hussard sur le toit, Le) (1995)',\n 'Switchblade Sisters (1975)',\n 'Mouth to Mouth (Boca a boca) (1995)',\n 'Visitors, The (Les Visiteurs) (1993)',\n 'Multiplicity (1996)',\n 'Wallace & Gromit: The Best of Aardman Animation (1996)',\n 'Halfmoon (Paul Bowles - Halbmond) (1995)',\n 'Haunted World of Edward D. Wood Jr., The (1995)',\n 'Two Friends (1986)',\n 'Craft, The (1996)',\n 'Great White Hype, The (1996)',\n 'Last Dance (1996)',\n 'War Stories (1995)',\n 'Cold Comfort Farm (1995)',\n 'Institute Benjamenta, or This Dream People Call Human Life (1995)',\n 'Low Life, The (1994)',\n \"Heaven's Prisoners (1996)\",\n 'Original Gangstas (1996)',\n 'Rock, The (1996)',\n 'Getting Away With Murder (1996)',\n 'Cemetery Man (Dellamorte Dellamore) (1994)',\n 'Twister (1996)',\n 'Barb Wire (1996)',\n 'Garcu, Le (1995)',\n 'Honigmond (1996)',\n 'Ghost in the Shell (Kokaku kidotai) (1995)',\n 'Thinner (1996)',\n 'Spy Hard (1996)',\n 'Brothers in Trouble (1995)',\n 'Close Shave, A (1995)',\n 'Force of Evil (1948)',\n 'Stupids, The (1996)',\n 'Arrival, The (1996)',\n 'Man from Down Under, The (1943)',\n 'Dr. Strangelove or: How I Learned to Stop Worrying and Love the Bomb (1963)',\n 'Careful (1992)',\n 'Vermont Is For Lovers (1992)',\n 'Month by the Lake, A (1995)',\n 'Gold Diggers: The Secret of Bear Mountain (1995)',\n 'Kim (1950)',\n 'Carmen Miranda: Bananas Is My Business (1994)',\n 'Ashes of Time (1994)',\n 'Jar, The (Khomreh) (1992)',\n 'Maya Lin: A Strong Clear Vision (1994)',\n 'Stalingrad (1993)',\n 'Phantom, The (1996)',\n 'Striptease (1996)',\n 'Last of the High Kings, The (a.k.a. Summer Fling) (1996)',\n 'Heavy (1995)',\n 'Jack (1996)',\n 'I Shot Andy Warhol (1996)',\n 'Grass Harp, The (1995)',\n \"Someone Else's America (1995)\",\n 'Marlene Dietrich: Shadow and Light (1996)',\n 'Costa Brava (1946)',\n 'Vie est belle, La (Life is Rosey) (1987)',\n 'Quartier Mozart (1992)',\n 'Touki Bouki (Journey of the Hyena) (1973)',\n \"Wend Kuuni (God's Gift) (1982)\",\n 'Spirits of the Dead (Tre Passi nel Delirio) (1968)',\n 'Babyfever (1994)',\n \"Pharaoh's Army (1995)\",\n 'Trainspotting (1996)',\n \"'Til There Was You (1997)\",\n 'Independence Day (ID4) (1996)',\n 'Stealing Beauty (1996)',\n 'Fan, The (1996)',\n 'Hunchback of Notre Dame, The (1996)',\n 'Cable Guy, The (1996)',\n 'Kingpin (1996)',\n 'Eraser (1996)',\n 'Gate of Heavenly Peace, The (1995)',\n 'Nutty Professor, The (1996)',\n 'I, Worst of All (Yo, la peor de todas) (1990)',\n 'An Unforgettable Summer (1994)',\n 'Last Klezmer: Leopold Kozlowski, His Life and Music, The (1995)',\n 'Hungarian Fairy Tale, A (1987)',\n \"My Life and Times With Antonin Artaud (En compagnie d'Antonin Artaud) (1993)\",\n 'Midnight Dancers (Sibak) (1994)',\n 'Somebody to Love (1994)',\n 'Very Natural Thing, A (1974)',\n 'Old Lady Who Walked in the Sea, The (Vieille qui marchait dans la mer, La) (1991)',\n 'Daylight (1996)',\n 'Frighteners, The (1996)',\n 'Lone Star (1996)',\n 'Harriet the Spy (1996)',\n 'Phenomenon (1996)',\n 'Walking and Talking (1996)',\n \"She's the One (1996)\",\n 'Time to Kill, A (1996)',\n 'American Buffalo (1996)',\n 'Rendezvous in Paris (Rendez-vous de Paris, Les) (1995)',\n 'Alaska (1996)',\n 'Fled (1996)',\n 'Kazaam (1996)',\n 'Bewegte Mann, Der (1994)',\n 'Magic Hunter (1994)',\n 'Larger Than Life (1996)',\n 'Boy Called Hate, A (1995)',\n 'Power 98 (1995)',\n 'Two Deaths (1995)',\n 'Very Brady Sequel, A (1996)',\n 'Stefano Quantestorie (1993)',\n 'Death in the Garden (Mort en ce jardin, La) (1956)',\n 'Crude Oasis, The (1995)',\n 'Hedd Wyn (1992)',\n 'Collectionneuse, La (1967)',\n 'Kaspar Hauser (1993)',\n 'Echte Kerle (1996)',\n 'Diebinnen (1995)',\n 'Convent, The (Convento, O) (1995)',\n 'Adventures of Pinocchio, The (1996)',\n \"Joe's Apartment (1996)\",\n 'First Wives Club, The (1996)',\n 'Stonewall (1995)',\n 'Ransom (1996)',\n 'High School High (1996)',\n 'Phat Beach (1996)',\n 'Foxfire (1996)',\n 'Chain Reaction (1996)',\n 'Matilda (1996)',\n 'Emma (1996)',\n 'Crow: City of Angels, The (1996)',\n 'House Arrest (1996)',\n 'Eyes Without a Face (1959)',\n 'Tales from the Crypt Presents: Bordello of Blood (1996)',\n 'Lotto Land (1995)',\n 'Story of Xinghua, The (1993)',\n 'Day the Sun Turned Cold, The (Tianguo niezi) (1994)',\n 'Flirt (1995)',\n 'Big Squeeze, The (1996)',\n 'Spitfire Grill, The (1996)',\n 'Escape from L.A. (1996)',\n 'Cyclo (1995)',\n 'Basquiat (1996)',\n 'Tin Cup (1996)',\n 'Dingo (1992)',\n 'Ballad of Narayama, The (Narayama Bushiko) (1958)',\n 'Every Other Weekend (1990)',\n 'Mille bolle blu (1993)',\n 'Crows and Sparrows (1949)',\n 'Godfather, The (1972)',\n 'Hippie Revolution, The (1996)',\n 'Maybe, Maybe Not (Bewegte Mann, Der) (1994)',\n 'Supercop (1992)',\n 'Manny & Lo (1996)',\n 'Celestial Clockwork (1994)',\n 'Wife, The (1995)',\n 'Small Faces (1995)',\n 'Bound (1996)',\n 'Carpool (1996)',\n 'Death in Brunswick (1991)',\n 'Kansas City (1996)',\n \"Gone Fishin' (1997)\",\n \"Lover's Knot (1996)\",\n 'Aiqing wansui (1994)',\n 'Shadow of Angels (Schatten der Engel) (1976)',\n 'Killer: A Journal of Murder (1995)',\n 'Nothing to Lose (1994)',\n 'Police Story 4: Project S (Chao ji ji hua) (1993)',\n 'Girls Town (1996)',\n 'Bye-Bye (1995)',\n 'Relic, The (1997)',\n 'Island of Dr. Moreau, The (1996)',\n 'First Kid (1996)',\n 'Trigger Effect, The (1996)',\n 'Sweet Nothing (1995)',\n 'Bogus (1996)',\n 'Bulletproof (1996)',\n 'Talk of Angels (1998)',\n 'Land Before Time III: The Time of the Great Giving (1995)',\n '1-900 (1994)',\n 'Baton Rouge (1988)',\n 'Halloween: The Curse of Michael Myers (1995)',\n 'Twelfth Night (1996)',\n 'Mother Night (1996)',\n 'Liebelei (1933)',\n 'Venice/Venice (1992)',\n 'Wild Reeds (1994)',\n 'For Whom the Bell Tolls (1943)',\n 'Philadelphia Story, The (1940)',\n \"Singin' in the Rain (1952)\",\n 'American in Paris, An (1951)',\n 'Funny Face (1957)',\n \"Breakfast at Tiffany's (1961)\",\n 'Vertigo (1958)',\n 'Rear Window (1954)',\n 'It Happened One Night (1934)',\n 'Gaslight (1944)',\n 'Gay Divorcee, The (1934)',\n 'North by Northwest (1959)',\n 'Apartment, The (1960)',\n 'Some Like It Hot (1959)',\n 'Charade (1963)',\n 'Casablanca (1942)',\n 'Maltese Falcon, The (1941)',\n 'My Fair Lady (1964)',\n 'Sabrina (1954)',\n 'Roman Holiday (1953)',\n 'Little Princess, The (1939)',\n 'Meet Me in St. Louis (1944)',\n 'Wizard of Oz, The (1939)',\n 'Gone with the Wind (1939)',\n 'My Favorite Year (1982)',\n 'Sunset Blvd. (a.k.a. Sunset Boulevard) (1950)',\n 'Citizen Kane (1941)',\n '2001: A Space Odyssey (1968)',\n 'Golden Earrings (1947)',\n 'All About Eve (1950)',\n 'Women, The (1939)',\n 'Rebecca (1940)',\n 'Foreign Correspondent (1940)',\n 'Notorious (1946)',\n 'Spellbound (1945)',\n 'Affair to Remember, An (1957)',\n 'To Catch a Thief (1955)',\n 'Father of the Bride (1950)',\n 'Band Wagon, The (1953)',\n 'Ninotchka (1939)',\n 'Love in the Afternoon (1957)',\n 'Gigi (1958)',\n 'Reluctant Debutante, The (1958)',\n 'Adventures of Robin Hood, The (1938)',\n 'Mark of Zorro, The (1940)',\n 'Laura (1944)',\n 'Ghost and Mrs. Muir, The (1947)',\n 'Lost Horizon (1937)',\n 'Top Hat (1935)',\n 'To Be or Not to Be (1942)',\n 'My Man Godfrey (1936)',\n 'Giant (1956)',\n 'East of Eden (1955)',\n 'Thin Man, The (1934)',\n 'His Girl Friday (1940)',\n 'Around the World in 80 Days (1956)',\n \"It's a Wonderful Life (1946)\",\n 'Mr. Smith Goes to Washington (1939)',\n 'Bringing Up Baby (1938)',\n 'Penny Serenade (1941)',\n 'Scarlet Letter, The (1926)',\n 'Lady of Burlesque (1943)',\n 'Of Human Bondage (1934)',\n 'Angel on My Shoulder (1946)',\n 'Little Lord Fauntleroy (1936)',\n 'They Made Me a Criminal (1939)',\n 'Inspector General, The (1949)',\n 'Angel and the Badman (1947)',\n '39 Steps, The (1935)',\n 'Walk in the Sun, A (1945)',\n 'Outlaw, The (1943)',\n 'Night of the Living Dead (1968)',\n 'African Queen, The (1951)',\n 'Beat the Devil (1954)',\n 'Cat on a Hot Tin Roof (1958)',\n 'Last Time I Saw Paris, The (1954)',\n 'Meet John Doe (1941)',\n 'Algiers (1938)',\n 'Something to Sing About (1937)',\n 'Farewell to Arms, A (1932)',\n 'Moonlight Murder (1936)',\n 'Blue Angel, The (Blaue Engel, Der) (1930)',\n 'Nothing Personal (1995)',\n 'In the Line of Duty 2 (1987)',\n 'Dangerous Ground (1997)',\n 'Picnic (1955)',\n 'Madagascar Skin (1995)',\n 'Pompatus of Love, The (1996)',\n 'Small Wonders (1996)',\n 'Fly Away Home (1996)',\n 'Bliss (1997)',\n 'Grace of My Heart (1996)',\n 'Schlafes Bruder (Brother of Sleep) (1995)',\n 'Maximum Risk (1996)',\n 'Michael Collins (1996)',\n \"Rich Man's Wife, The (1996)\",\n 'Infinity (1996)',\n 'Big Night (1996)',\n 'Last Man Standing (1996)',\n 'Caught (1996)',\n 'Set It Off (1996)',\n '2 Days in the Valley (1996)',\n 'Curdled (1996)',\n \"Associate, The (L'Associe)(1982)\",\n \"Ed's Next Move (1996)\",\n 'Extreme Measures (1996)',\n 'Glimmer Man, The (1996)',\n 'D3: The Mighty Ducks (1996)',\n 'Chamber, The (1996)',\n 'Apple Dumpling Gang, The (1975)',\n 'Davy Crockett, King of the Wild Frontier (1955)',\n 'Escape to Witch Mountain (1975)',\n 'Love Bug, The (1969)',\n 'Herbie Rides Again (1974)',\n 'Old Yeller (1957)',\n ...]"
     },
     "execution_count": 5,
     "metadata": {},
     "output_type": "execute_result"
    }
   ],
   "source": [
    "import json\n",
    "output_list = u_movie[1].tolist()\n",
    "with open('mo')"
   ],
   "metadata": {
    "collapsed": false,
    "ExecuteTime": {
     "end_time": "2024-07-24T14:39:18.004678Z",
     "start_time": "2024-07-24T14:39:17.978938Z"
    }
   },
   "id": "c85c3a95aebea526",
   "execution_count": 5
  },
  {
   "cell_type": "code",
   "outputs": [
    {
     "data": {
      "text/plain": "    0     1  2          3\n31  1  3186  4  978300019\n27  1  1721  4  978300055\n22  1  1270  5  978300055\n37  1  1022  5  978300055\n36  1  1836  5  978300172\n3   1  3408  4  978300275\n7   1  2804  5  978300719\n47  1  1207  4  978300719\n44  1   260  4  978300760\n0   1  1193  5  978300760\n9   1   919  4  978301368\n51  1   608  4  978301398\n43  1  2692  4  978301570\n41  1  1961  5  978301590\n48  1  2028  5  978301619\n18  1  3105  5  978301713\n11  1   938  4  978301752\n14  1  1035  5  978301753\n42  1  1962  4  978301753\n45  1  1028  5  978301777\n17  1  2018  4  978301777\n39  1   150  5  978301777\n26  1  1097  4  978301953\n19  1  2797  4  978302039\n6   1  1287  5  978302039\n38  1  2762  4  978302091\n52  1  1246  4  978302091\n13  1  2918  4  978302124\n49  1   531  4  978302149\n50  1  3114  4  978302174\n15  1  2791  4  978302188\n46  1  1029  5  978302205\n8   1   594  4  978302268\n12  1  2398  4  978302281\n28  1  1545  4  978824139\n23  1   527  5  978824195\n33  1   588  4  978824268\n40  1     1  5  978824268\n10  1   595  5  978824268\n4   1  2355  5  978824291\n35  1   783  4  978824291\n30  1  2294  4  978824291\n32  1  1566  4  978824330\n34  1  1907  4  978824330\n25  1    48  5  978824351",
      "text/html": "<div>\n<style scoped>\n    .dataframe tbody tr th:only-of-type {\n        vertical-align: middle;\n    }\n\n    .dataframe tbody tr th {\n        vertical-align: top;\n    }\n\n    .dataframe thead th {\n        text-align: right;\n    }\n</style>\n<table border=\"1\" class=\"dataframe\">\n  <thead>\n    <tr style=\"text-align: right;\">\n      <th></th>\n      <th>0</th>\n      <th>1</th>\n      <th>2</th>\n      <th>3</th>\n    </tr>\n  </thead>\n  <tbody>\n    <tr>\n      <th>31</th>\n      <td>1</td>\n      <td>3186</td>\n      <td>4</td>\n      <td>978300019</td>\n    </tr>\n    <tr>\n      <th>27</th>\n      <td>1</td>\n      <td>1721</td>\n      <td>4</td>\n      <td>978300055</td>\n    </tr>\n    <tr>\n      <th>22</th>\n      <td>1</td>\n      <td>1270</td>\n      <td>5</td>\n      <td>978300055</td>\n    </tr>\n    <tr>\n      <th>37</th>\n      <td>1</td>\n      <td>1022</td>\n      <td>5</td>\n      <td>978300055</td>\n    </tr>\n    <tr>\n      <th>36</th>\n      <td>1</td>\n      <td>1836</td>\n      <td>5</td>\n      <td>978300172</td>\n    </tr>\n    <tr>\n      <th>3</th>\n      <td>1</td>\n      <td>3408</td>\n      <td>4</td>\n      <td>978300275</td>\n    </tr>\n    <tr>\n      <th>7</th>\n      <td>1</td>\n      <td>2804</td>\n      <td>5</td>\n      <td>978300719</td>\n    </tr>\n    <tr>\n      <th>47</th>\n      <td>1</td>\n      <td>1207</td>\n      <td>4</td>\n      <td>978300719</td>\n    </tr>\n    <tr>\n      <th>44</th>\n      <td>1</td>\n      <td>260</td>\n      <td>4</td>\n      <td>978300760</td>\n    </tr>\n    <tr>\n      <th>0</th>\n      <td>1</td>\n      <td>1193</td>\n      <td>5</td>\n      <td>978300760</td>\n    </tr>\n    <tr>\n      <th>9</th>\n      <td>1</td>\n      <td>919</td>\n      <td>4</td>\n      <td>978301368</td>\n    </tr>\n    <tr>\n      <th>51</th>\n      <td>1</td>\n      <td>608</td>\n      <td>4</td>\n      <td>978301398</td>\n    </tr>\n    <tr>\n      <th>43</th>\n      <td>1</td>\n      <td>2692</td>\n      <td>4</td>\n      <td>978301570</td>\n    </tr>\n    <tr>\n      <th>41</th>\n      <td>1</td>\n      <td>1961</td>\n      <td>5</td>\n      <td>978301590</td>\n    </tr>\n    <tr>\n      <th>48</th>\n      <td>1</td>\n      <td>2028</td>\n      <td>5</td>\n      <td>978301619</td>\n    </tr>\n    <tr>\n      <th>18</th>\n      <td>1</td>\n      <td>3105</td>\n      <td>5</td>\n      <td>978301713</td>\n    </tr>\n    <tr>\n      <th>11</th>\n      <td>1</td>\n      <td>938</td>\n      <td>4</td>\n      <td>978301752</td>\n    </tr>\n    <tr>\n      <th>14</th>\n      <td>1</td>\n      <td>1035</td>\n      <td>5</td>\n      <td>978301753</td>\n    </tr>\n    <tr>\n      <th>42</th>\n      <td>1</td>\n      <td>1962</td>\n      <td>4</td>\n      <td>978301753</td>\n    </tr>\n    <tr>\n      <th>45</th>\n      <td>1</td>\n      <td>1028</td>\n      <td>5</td>\n      <td>978301777</td>\n    </tr>\n    <tr>\n      <th>17</th>\n      <td>1</td>\n      <td>2018</td>\n      <td>4</td>\n      <td>978301777</td>\n    </tr>\n    <tr>\n      <th>39</th>\n      <td>1</td>\n      <td>150</td>\n      <td>5</td>\n      <td>978301777</td>\n    </tr>\n    <tr>\n      <th>26</th>\n      <td>1</td>\n      <td>1097</td>\n      <td>4</td>\n      <td>978301953</td>\n    </tr>\n    <tr>\n      <th>19</th>\n      <td>1</td>\n      <td>2797</td>\n      <td>4</td>\n      <td>978302039</td>\n    </tr>\n    <tr>\n      <th>6</th>\n      <td>1</td>\n      <td>1287</td>\n      <td>5</td>\n      <td>978302039</td>\n    </tr>\n    <tr>\n      <th>38</th>\n      <td>1</td>\n      <td>2762</td>\n      <td>4</td>\n      <td>978302091</td>\n    </tr>\n    <tr>\n      <th>52</th>\n      <td>1</td>\n      <td>1246</td>\n      <td>4</td>\n      <td>978302091</td>\n    </tr>\n    <tr>\n      <th>13</th>\n      <td>1</td>\n      <td>2918</td>\n      <td>4</td>\n      <td>978302124</td>\n    </tr>\n    <tr>\n      <th>49</th>\n      <td>1</td>\n      <td>531</td>\n      <td>4</td>\n      <td>978302149</td>\n    </tr>\n    <tr>\n      <th>50</th>\n      <td>1</td>\n      <td>3114</td>\n      <td>4</td>\n      <td>978302174</td>\n    </tr>\n    <tr>\n      <th>15</th>\n      <td>1</td>\n      <td>2791</td>\n      <td>4</td>\n      <td>978302188</td>\n    </tr>\n    <tr>\n      <th>46</th>\n      <td>1</td>\n      <td>1029</td>\n      <td>5</td>\n      <td>978302205</td>\n    </tr>\n    <tr>\n      <th>8</th>\n      <td>1</td>\n      <td>594</td>\n      <td>4</td>\n      <td>978302268</td>\n    </tr>\n    <tr>\n      <th>12</th>\n      <td>1</td>\n      <td>2398</td>\n      <td>4</td>\n      <td>978302281</td>\n    </tr>\n    <tr>\n      <th>28</th>\n      <td>1</td>\n      <td>1545</td>\n      <td>4</td>\n      <td>978824139</td>\n    </tr>\n    <tr>\n      <th>23</th>\n      <td>1</td>\n      <td>527</td>\n      <td>5</td>\n      <td>978824195</td>\n    </tr>\n    <tr>\n      <th>33</th>\n      <td>1</td>\n      <td>588</td>\n      <td>4</td>\n      <td>978824268</td>\n    </tr>\n    <tr>\n      <th>40</th>\n      <td>1</td>\n      <td>1</td>\n      <td>5</td>\n      <td>978824268</td>\n    </tr>\n    <tr>\n      <th>10</th>\n      <td>1</td>\n      <td>595</td>\n      <td>5</td>\n      <td>978824268</td>\n    </tr>\n    <tr>\n      <th>4</th>\n      <td>1</td>\n      <td>2355</td>\n      <td>5</td>\n      <td>978824291</td>\n    </tr>\n    <tr>\n      <th>35</th>\n      <td>1</td>\n      <td>783</td>\n      <td>4</td>\n      <td>978824291</td>\n    </tr>\n    <tr>\n      <th>30</th>\n      <td>1</td>\n      <td>2294</td>\n      <td>4</td>\n      <td>978824291</td>\n    </tr>\n    <tr>\n      <th>32</th>\n      <td>1</td>\n      <td>1566</td>\n      <td>4</td>\n      <td>978824330</td>\n    </tr>\n    <tr>\n      <th>34</th>\n      <td>1</td>\n      <td>1907</td>\n      <td>4</td>\n      <td>978824330</td>\n    </tr>\n    <tr>\n      <th>25</th>\n      <td>1</td>\n      <td>48</td>\n      <td>5</td>\n      <td>978824351</td>\n    </tr>\n  </tbody>\n</table>\n</div>"
     },
     "execution_count": 15,
     "metadata": {},
     "output_type": "execute_result"
    }
   ],
   "source": [
    "u_data[(u_data[2] >= 4) & (u_data[0] == 1)].sort_values(3)"
   ],
   "metadata": {
    "collapsed": false,
    "ExecuteTime": {
     "end_time": "2024-05-03T05:30:24.257629Z",
     "start_time": "2024-05-03T05:30:24.243669Z"
    }
   },
   "id": "83428d67e874e0a0",
   "execution_count": 15
  },
  {
   "cell_type": "code",
   "outputs": [],
   "source": [
    "# output movie titles\n",
    "import json\n",
    "\n",
    "movie_name = u_movie[[0,1]].values.tolist()\n",
    "with open(\"movie_name.json\", \"w\") as movie_file:\n",
    "    movie_file.write(json.dumps(movie_name))"
   ],
   "metadata": {
    "collapsed": false,
    "ExecuteTime": {
     "end_time": "2024-04-23T16:08:20.917421Z",
     "start_time": "2024-04-23T16:08:20.834563Z"
    }
   },
   "id": "9a6a536e63e27086",
   "execution_count": 39
  },
  {
   "cell_type": "code",
   "outputs": [
    {
     "data": {
      "text/plain": "         0  1   2   3      4\n0        1  F   1  10  48067\n1        2  M  56  16  70072\n2        3  M  25  15  55117\n3        4  M  45   7  02460\n4        5  M  25  20  55455\n...    ... ..  ..  ..    ...\n6035  6036  F  25  15  32603\n6036  6037  F  45   1  76006\n6037  6038  F  56   1  14706\n6038  6039  F  45   0  01060\n6039  6040  M  25   6  11106\n\n[6040 rows x 5 columns]",
      "text/html": "<div>\n<style scoped>\n    .dataframe tbody tr th:only-of-type {\n        vertical-align: middle;\n    }\n\n    .dataframe tbody tr th {\n        vertical-align: top;\n    }\n\n    .dataframe thead th {\n        text-align: right;\n    }\n</style>\n<table border=\"1\" class=\"dataframe\">\n  <thead>\n    <tr style=\"text-align: right;\">\n      <th></th>\n      <th>0</th>\n      <th>1</th>\n      <th>2</th>\n      <th>3</th>\n      <th>4</th>\n    </tr>\n  </thead>\n  <tbody>\n    <tr>\n      <th>0</th>\n      <td>1</td>\n      <td>F</td>\n      <td>1</td>\n      <td>10</td>\n      <td>48067</td>\n    </tr>\n    <tr>\n      <th>1</th>\n      <td>2</td>\n      <td>M</td>\n      <td>56</td>\n      <td>16</td>\n      <td>70072</td>\n    </tr>\n    <tr>\n      <th>2</th>\n      <td>3</td>\n      <td>M</td>\n      <td>25</td>\n      <td>15</td>\n      <td>55117</td>\n    </tr>\n    <tr>\n      <th>3</th>\n      <td>4</td>\n      <td>M</td>\n      <td>45</td>\n      <td>7</td>\n      <td>02460</td>\n    </tr>\n    <tr>\n      <th>4</th>\n      <td>5</td>\n      <td>M</td>\n      <td>25</td>\n      <td>20</td>\n      <td>55455</td>\n    </tr>\n    <tr>\n      <th>...</th>\n      <td>...</td>\n      <td>...</td>\n      <td>...</td>\n      <td>...</td>\n      <td>...</td>\n    </tr>\n    <tr>\n      <th>6035</th>\n      <td>6036</td>\n      <td>F</td>\n      <td>25</td>\n      <td>15</td>\n      <td>32603</td>\n    </tr>\n    <tr>\n      <th>6036</th>\n      <td>6037</td>\n      <td>F</td>\n      <td>45</td>\n      <td>1</td>\n      <td>76006</td>\n    </tr>\n    <tr>\n      <th>6037</th>\n      <td>6038</td>\n      <td>F</td>\n      <td>56</td>\n      <td>1</td>\n      <td>14706</td>\n    </tr>\n    <tr>\n      <th>6038</th>\n      <td>6039</td>\n      <td>F</td>\n      <td>45</td>\n      <td>0</td>\n      <td>01060</td>\n    </tr>\n    <tr>\n      <th>6039</th>\n      <td>6040</td>\n      <td>M</td>\n      <td>25</td>\n      <td>6</td>\n      <td>11106</td>\n    </tr>\n  </tbody>\n</table>\n<p>6040 rows × 5 columns</p>\n</div>"
     },
     "execution_count": 4,
     "metadata": {},
     "output_type": "execute_result"
    }
   ],
   "source": [
    "u_user"
   ],
   "metadata": {
    "collapsed": false,
    "ExecuteTime": {
     "end_time": "2024-04-23T08:43:08.432096Z",
     "start_time": "2024-04-23T08:43:08.416558Z"
    }
   },
   "id": "2799b52cafa7353e",
   "execution_count": 4
  },
  {
   "cell_type": "code",
   "outputs": [
    {
     "name": "stdout",
     "output_type": "stream",
     "text": [
      "4\n",
      "12\n",
      "14\n",
      "16\n",
      "20\n",
      "21\n",
      "41\n",
      "43\n",
      "47\n",
      "50\n",
      "55\n",
      "61\n",
      "66\n",
      "71\n",
      "77\n",
      "79\n",
      "85\n",
      "89\n",
      "94\n",
      "98\n",
      "100\n",
      "108\n",
      "124\n",
      "128\n",
      "141\n",
      "144\n",
      "145\n"
     ]
    }
   ],
   "source": [
    "# Work1 dataset output\n",
    "\n",
    "import random\n",
    "import json\n",
    "# generate prompt\n",
    "\n",
    "SUF = ['','_CoT','_ToT']\n",
    "_suf = SUF[1]\n",
    "\n",
    "'''\n",
    "You are a recommended system. Given the user profile and the historical data, analyse the user's interests. Your task is to add no less than five movies between the last movie of historical data and the target movie to connect them as a Metapath and explain why. Any adjacent movies should have a strong relation with each other and make sure the movies not included in the historical data. The movies should before 2001.\n",
    "'''\n",
    "\n",
    "gender_dict = {'F': 'Female', 'M': 'Male'}\n",
    "age_dict = {1: 'Under 18', 18: '18-24', 25: '25-34', 35: '35-44', 45: '45-49', 50: '50-55', 56:'56+'}\n",
    "occupation_dict = {0: \"other or not specified\",\n",
    "            1: \"academic/educator\",\n",
    "            2: \"artist\",\n",
    "            3: \"clerical/admin\",\n",
    "            4: \"college/grad student\",\n",
    "            5: \"customer service\",\n",
    "            6: \"doctor/health care\",\n",
    "            7: \"executive/managerial\",\n",
    "            8: \"farmer\",\n",
    "            9: \"homemaker\",\n",
    "            10: \"K-12 student\",\n",
    "            11: \"lawyer\",\n",
    "            12: \"programmer\",\n",
    "            13: \"retired\",                                                  \n",
    "            14: \"sales/marketing\",\n",
    "            15: \"scientist\",\n",
    "            16: \"self-employed\",\n",
    "            17: \"technician/engineer\",\n",
    "            18: \"tradesman/craftsman\",\n",
    "            19: \"unemployed\",\n",
    "            20: \"writer\"}\n",
    "\n",
    "with open('training_data/train_1m', 'w', encoding='utf-8') as f:\n",
    "    with open('training_data/train_1m.json', 'w', encoding='utf-8') as fj:\n",
    "        llm = []\n",
    "        irs = []\n",
    "        \n",
    "        for user_id in range(1, 6041):\n",
    "            df_user = u_data[(u_data[2] >= 4) & (u_data[0] == user_id)].sort_values(3)[1].values.tolist()\n",
    "            if len(df_user) <= 20:\n",
    "                # print(user_id)\n",
    "                continue\n",
    "            # print(len(df_user))\n",
    "            user_text = u_user[u_user[0] == user_id].values.tolist()\n",
    "            \n",
    "            prompt = f\"Gender:{gender_dict[user_text[0][1]]}\\nAge:{age_dict[user_text[0][2]]}\\nOccupation:{occupation_dict[user_text[0][3]]}\\n\\nHistorical data:\\n\"\n",
    "            \n",
    "            # f.write(f\"Gender:{gender_dict[user_text[0][1]]}\\nAge:{age_dict[user_text[0][2]]}\\nOccupation:{occupation_dict[user_text[0][3]]}\")\n",
    "            # f.write(\"\\n\\nHistorical data:\\n\")\n",
    "            \n",
    "            for movie_id in df_user[-20:]:\n",
    "                movie_text = u_movie[u_movie[0] == movie_id].values.tolist()\n",
    "                movie_title = movie_text[0][1]\n",
    "                movie_genre = movie_text[0][2]\n",
    "                prompt += f\"{movie_title} Genre:{movie_genre}\\n\"\n",
    "                # f.write(f\"{movie_title} Genre:{movie_genre}\\n\")\n",
    "            \n",
    "            while True:\n",
    "                movie_tar = random.randint(1,3952)\n",
    "                if movie_tar not in df_user and len(u_movie[u_movie[0] == movie_tar].values.tolist()) != 0:\n",
    "                    break\n",
    "            # print(movie_tar)\n",
    "            movie_text = u_movie[u_movie[0] == movie_tar].values.tolist()\n",
    "            # print(movie_text)\n",
    "            movie_title = movie_text[0][1]\n",
    "            movie_genre = movie_text[0][2]\n",
    "            prompt += f\"\\nTarget movie: {movie_title} Genre:{movie_genre}\\n\"\n",
    "            # f.write(f\"\\nTarget movie: {movie_title} Genre:{movie_genre}\\n\")\n",
    "            \n",
    "            f.write(prompt)\n",
    "            f.write(\"<end>\\n\")\n",
    "            \n",
    "            llm.append([f\"{movie_title} Genre:{movie_genre}\", prompt])\n",
    "            irs.append([movie_tar, df_user[-20:]])\n",
    "            \n",
    "            if user_id == 150:\n",
    "                print('finish!')\n",
    "                break\n",
    "        json.dump({'llm':llm,'irs':irs}, fj)\n"
   ],
   "metadata": {
    "collapsed": false,
    "ExecuteTime": {
     "end_time": "2024-05-03T06:07:47.112648Z",
     "start_time": "2024-05-03T06:07:45.993929Z"
    }
   },
   "id": "b6fb1ec39055ff2b",
   "execution_count": 20
  },
  {
   "cell_type": "code",
   "outputs": [
    {
     "name": "stderr",
     "output_type": "stream",
     "text": [
      "100%|██████████| 6040/6040 [01:57<00:00, 51.45it/s]\n"
     ]
    }
   ],
   "source": [
    "# Work2 dataset generation\n",
    "\n",
    "import random\n",
    "import json\n",
    "from tqdm import tqdm\n",
    "# generate prompt\n",
    "\n",
    "SUF = ['','_CoT','_ToT']\n",
    "_suf = SUF[1]\n",
    "\n",
    "'''\n",
    "You are a recommended system. Given the user profile and the historical data, analyse the user's interests. Your task is to add no less than five movies between the last movie of historical data and the target movie to connect them as a Metapath and explain why. Any adjacent movies should have a strong relation with each other and make sure the movies not included in the historical data. The movies should before 2001.\n",
    "'''\n",
    "\n",
    "'''\n",
    "The user's viewing history is ['Harvester', 'Kero Blaster', 'Power-Up', 'Tree of Savior (English Ver.)', 'SMITE®', 'Verdun', 'Train Simulator', 'Age of Empires® III: Complete Collection', 'Vampire: The Masquerade - Bloodlines', 'RUNNING WITH RIFLES', 'Battleborn', 'Rust', 'SNOW', 'Brigador: Up-Armored Edition', 'Arcana Heart 3 LOVE MAX!!!!!']. The target item is ['Broken Age']. Please recommend item for this user and try to influence the user to become interested in the target item, and finally recommend the target item. The recommended games must be published before 2018.\"\n",
    "'''\n",
    "\n",
    "gender_dict = {'F': 'Female', 'M': 'Male'}\n",
    "age_dict = {1: 'Under 18', 18: '18-24', 25: '25-34', 35: '35-44', 45: '45-49', 50: '50-55', 56:'56+'}\n",
    "occupation_dict = {0: \"other or not specified\",\n",
    "            1: \"academic/educator\",\n",
    "            2: \"artist\",\n",
    "            3: \"clerical/admin\",\n",
    "            4: \"college/grad student\",\n",
    "            5: \"customer service\",\n",
    "            6: \"doctor/health care\",\n",
    "            7: \"executive/managerial\",\n",
    "            8: \"farmer\",\n",
    "            9: \"homemaker\",\n",
    "            10: \"K-12 student\",\n",
    "            11: \"lawyer\",\n",
    "            12: \"programmer\",\n",
    "            13: \"retired\",                                                  \n",
    "            14: \"sales/marketing\",\n",
    "            15: \"scientist\",\n",
    "            16: \"self-employed\",\n",
    "            17: \"technician/engineer\",\n",
    "            18: \"tradesman/craftsman\",\n",
    "            19: \"unemployed\",\n",
    "            20: \"writer\"}\n",
    "\n",
    "dataset_ran = []\n",
    "dataset_30 = []\n",
    "\n",
    "for user_id in tqdm(range(1, 6041)):\n",
    "    # print(user_id)\n",
    "    pos_seq = []\n",
    "    \n",
    "    df_user = u_data[(u_data[2] >= 4) & (u_data[0] == user_id)].sort_values(3)[1].values.tolist()\n",
    "    if len(df_user) <= 30:\n",
    "        # print(user_id)\n",
    "        continue\n",
    "    # print(len(df_user))\n",
    "    user_text = u_user[u_user[0] == user_id].values.tolist()\n",
    "    \n",
    "    question = f\"User: {user_id}\\nGender:{gender_dict[user_text[0][1]]}\\nAge:{age_dict[user_text[0][2]]}\\nOccupation:{occupation_dict[user_text[0][3]]}\\n\\nHistorical liked movies:\\n\"\n",
    "    \n",
    "    # f.write(f\"Gender:{gender_dict[user_text[0][1]]}\\nAge:{age_dict[user_text[0][2]]}\\nOccupation:{occupation_dict[user_text[0][3]]}\")\n",
    "    # f.write(\"\\n\\nHistorical data:\\n\")\n",
    "    \n",
    "    for movie_id in df_user:\n",
    "        movie_text = u_movie[u_movie[0] == movie_id].values.tolist()\n",
    "        movie_title = movie_text[0][1]\n",
    "        movie_genre = movie_text[0][2]\n",
    "        pos_seq.append(f\"{movie_title} Genre:{movie_genre}\")\n",
    "        # f.write(f\"{movie_title} Genre:{movie_genre}\\n\")\n",
    "    \n",
    "    his_seq = pos_seq[:15]\n",
    "    \n",
    "    for item in his_seq:\n",
    "        question += f\"{item}\\n\"\n",
    "    \n",
    "    while True:\n",
    "        movie_tar = random.randint(1,3952)\n",
    "        if movie_tar not in df_user and len(u_movie[u_movie[0] == movie_tar].values.tolist()) != 0:\n",
    "            break\n",
    "    \n",
    "    # print(movie_tar)\n",
    "    movie_text = u_movie[u_movie[0] == movie_tar].values.tolist()\n",
    "    # print(movie_text)\n",
    "    movie_title = movie_text[0][1]\n",
    "    movie_genre = movie_text[0][2]\n",
    "    movie_ran = f\"{movie_title}\"\n",
    "    # f.write(f\"\\nTarget movie: {movie_title} Genre:{movie_genre}\\n\")\n",
    "    \n",
    "    movie_30 = pos_seq[29][:pos_seq[29].index(\" Genre\")]\n",
    "    question_30 = question + f\"\\nTarget movie: {movie_30}\\n\\nPlease recommend movies for this user and try to influence the user to become interested in the target movie, and finally recommend the target movie. The recommended movies must be published before 2001.\"\n",
    "    \n",
    "    question_ran = question + f\"\\nTarget movie: {movie_ran}\\n\\nPlease recommend movies for this user and try to influence the user to become interested in the target movie, and finally recommend the target movie. The recommended movies must be published before 2001.\"\n",
    "    \n",
    "    dataset_30.append({\"userid_encoded\": user_id, \"pos_seq_name\": pos_seq, \"his_seq\": his_seq, \"target_item\": movie_30, \"question\": question_30})\n",
    "    dataset_ran.append({\"userid_encoded\": user_id, \"pos_seq_name\": pos_seq, \"his_seq\": his_seq, \"target_item\": movie_ran, \"question\": question_ran})\n",
    "    # print(question_30)\n",
    "    # break\n",
    "    \n",
    "with open('training_data/movielens1m_30_target.json', 'w', encoding='utf-8') as f:\n",
    "    json.dump(dataset_30, f)\n",
    "with open('training_data/movielens1m_random_target.json', 'w', encoding='utf-8') as f:\n",
    "    json.dump(dataset_ran, f)\n"
   ],
   "metadata": {
    "collapsed": false,
    "ExecuteTime": {
     "end_time": "2024-09-30T14:11:47.771572Z",
     "start_time": "2024-09-30T14:09:49.404184Z"
    }
   },
   "id": "21416c6ffba5f0a",
   "execution_count": 5
  },
  {
   "cell_type": "code",
   "outputs": [
    {
     "name": "stdout",
     "output_type": "stream",
     "text": [
      "[(', The ', 791), (', A ', 86), ('', 13), (', An ', 13), (', La ', 6), (', Les ', 3), (', Le ', 3), (', El ', 3), (\", L' \", 2), (', Texas ', 2), (', Part II, The ', 2), (', the Beloved Country ', 1), (', Il ', 1), (', Steal Little ', 1), (', Thanks for Everything! Julie Newmar ', 1), (', Green Firecracker ', 1), (', Queen of the Desert, The ', 1), (', Corrina ', 1), (', Horrible Life of Leni Riefenstahl, The ', 1), (', But Came Down a Mountain, The ', 1), (', France ', 1), (', Maine, The ', 1), (', Professore! ', 1), (', Love ', 1), (', Big City ', 1), (', Das ', 1), (', 302 ', 1), (', or This Dream People Call Human Life ', 1), (', Worst of All ', 1), (', His Life and Music, The ', 1), (', Der ', 1), (', Maybe Not ', 1), (', King of the Wild Frontier ', 1), (',000 Leagues Under the Sea ', 1), (', My Sweet ', 1), (', Lies, and Videotape ', 1), (', The Bad and The Ugly, The ', 1), (', N.M. ', 1), (', or Not ', 1), (', Guido ', 1), (', Cheap & Out of Control ', 1), (', I Love You Not ', 1), (', Other Rooms ', 1), (', Niagara ', 1), (\", Don't Touch Me! \", 1), (', Texas Pop. 81 ', 1), (', Then the Fireworks ', 1), (',000,000 Duck ', 1), (', I Blew Up the Kid ', 1), (', I Shrunk the Kids ', 1), (', Last Rites ', 1), (', Part 2 ', 1), (', Wonderland ', 1), (', U.S.A. ', 1), (', Guts, Bullets and Octane ', 1), (', Stock & Two Smoking Barrels ', 1), (', etc. ', 1), (', Lover ', 1), (', Run Deep ', 1), (', Longer and Uncut ', 1), (', Early September ', 1), (', I Remember ', 1), (', White Cat ', 1), (', Alaska ', 1), (', Three Secretaries and Me ', 1), (', Can You Spare a Dime? ', 1), (\", Don't They? \", 1), (', 20th Century ', 1), (', Interrupted ', 1), (', Just Frenzy ', 1), (', the Lonesome Cougar ', 1), (', Vietnam ', 1), (', Book and Candle ', 1), (', Hospitals & Hip-Hop ', 1), (', Baby... Kill! ', 1), (', Myself and Irene ', 1), (', Blood Out ', 1), (', She Wolf of the SS ', 1), (', Last Summer ', 1), (', So Close ', 1)]\n"
     ]
    }
   ],
   "source": [
    "movie_list = u_movie[1].tolist()\n",
    "none_list = {}\n",
    "for movies in movie_list:\n",
    "    if ',' in movies:\n",
    "        _x = movies[movies.index(','):movies.index('(')]\n",
    "        if _x not in none_list.keys():\n",
    "            none_list[_x] = 1\n",
    "        else:\n",
    "            none_list[_x] += 1\n",
    "            \n",
    "print(sorted(none_list.items(), key=lambda x: x[1], reverse=True))"
   ],
   "metadata": {
    "collapsed": false,
    "ExecuteTime": {
     "end_time": "2024-04-23T09:24:54.260026Z",
     "start_time": "2024-04-23T09:24:54.247502Z"
    }
   },
   "id": "735474d791487e94",
   "execution_count": 12
  },
  {
   "cell_type": "code",
   "outputs": [
    {
     "name": "stdout",
     "output_type": "stream",
     "text": [
      "Love, etc. (1996)\n"
     ]
    }
   ],
   "source": [
    "for movies in movie_list:\n",
    "    if ', etc. ' in movies:\n",
    "        print(movies)"
   ],
   "metadata": {
    "collapsed": false,
    "ExecuteTime": {
     "end_time": "2024-04-23T09:30:50.428313Z",
     "start_time": "2024-04-23T09:30:50.414781Z"
    }
   },
   "id": "2756ba247034f6b1",
   "execution_count": 16
  },
  {
   "cell_type": "code",
   "outputs": [],
   "source": [],
   "metadata": {
    "collapsed": false
   },
   "id": "8398f8bc45122e11"
  },
  {
   "cell_type": "code",
   "execution_count": 12,
   "outputs": [
    {
     "name": "stdout",
     "output_type": "stream",
     "text": [
      "Hercules (1997) Genres:Adventure|Animation|Children's|Comedy|Musical\n",
      "Black Cauldron, The (1985) Genres:Animation|Children's\n",
      "NeverEnding Story, The (1984) Genres:Adventure|Children's|Fantasy\n",
      "Dark Crystal, The (1982) Genres:Children's|Fantasy|Sci-Fi\n",
      "Flight of the Navigator (1986) Genres:Adventure|Children's|Sci-Fi\n",
      "Superman III (1983) Genres:Action|Adventure|Sci-Fi\n",
      "['Hercules (1997)', 'Black Cauldron, The (1985)', 'NeverEnding Story, The (1984)', 'Dark Crystal, The (1982)', 'Flight of the Navigator (1986)', 'Superman III (1983)']\n"
     ]
    }
   ],
   "source": [
    "# IRS\n",
    "# f_path = [1566, 1544, 1917, 2094, 1779, 1831, 1320, 849, 1371, 1009, 3489, 2162, 3439, 673, 1920, 126, 1702, 3440, 2450, 1126, 2642]\n",
    "# PoP\n",
    "# f_path = [1566, 1235, 1230, 916, 25, 2291, 1955, 2791, 2706, 2011, 1101, 2424, 585, 2791, 1197, 1036, 1240, 1214, 1221, 1193, 1961]\n",
    "# f_path = [1566, 783, 1688, 48, 2092, 1381, 2383, 2382, 2381, 2380, 2379, 3689, 3690, 3391, 2733, 2471, 2950, 2421, 2411, 2410, 2409]\n",
    "# GPT3\n",
    "# f_path = [1566, 1197, 2791, 277, 1029, 2642]\n",
    "# CoT\n",
    "# f_path = [1566, 364, 2081, 595, 1035, 919, 2642]\n",
    "# f_path = [1566, 1097, 2005, 1270, 2716, 2420, 2642]\n",
    "# ToT\n",
    "f_path = [1566, 2033, 2161, 2140, 2046, 2642]\n",
    "\n",
    "movie_list = []\n",
    "\n",
    "for m in f_path:\n",
    "    info = u_movie[u_movie[0] == m].loc[:, [1,2]].values.tolist()\n",
    "    movie_list.append(info[0][0])\n",
    "    # print(f'{info[0][0]}')\n",
    "    print(f'{info[0][0]} Genres:{info[0][1]}')\n",
    "\n",
    "print(movie_list)"
   ],
   "metadata": {
    "collapsed": false,
    "ExecuteTime": {
     "end_time": "2024-04-24T22:34:57.237458Z",
     "start_time": "2024-04-24T22:34:57.224648Z"
    }
   },
   "id": "4cb2f66a09c2fc56"
  },
  {
   "cell_type": "code",
   "execution_count": 35,
   "outputs": [
    {
     "data": {
      "text/plain": "   0  1  2   3      4\n0  1  F  1  10  48067",
      "text/html": "<div>\n<style scoped>\n    .dataframe tbody tr th:only-of-type {\n        vertical-align: middle;\n    }\n\n    .dataframe tbody tr th {\n        vertical-align: top;\n    }\n\n    .dataframe thead th {\n        text-align: right;\n    }\n</style>\n<table border=\"1\" class=\"dataframe\">\n  <thead>\n    <tr style=\"text-align: right;\">\n      <th></th>\n      <th>0</th>\n      <th>1</th>\n      <th>2</th>\n      <th>3</th>\n      <th>4</th>\n    </tr>\n  </thead>\n  <tbody>\n    <tr>\n      <th>0</th>\n      <td>1</td>\n      <td>F</td>\n      <td>1</td>\n      <td>10</td>\n      <td>48067</td>\n    </tr>\n  </tbody>\n</table>\n</div>"
     },
     "execution_count": 35,
     "metadata": {},
     "output_type": "execute_result"
    }
   ],
   "source": [
    "u_user[0:1]"
   ],
   "metadata": {
    "collapsed": false,
    "ExecuteTime": {
     "end_time": "2024-01-29T21:45:29.440842300Z",
     "start_time": "2024-01-29T21:45:29.426272300Z"
    }
   },
   "id": "5776ae6873fbe0ae"
  },
  {
   "cell_type": "code",
   "execution_count": 32,
   "outputs": [
    {
     "data": {
      "text/plain": "[['Sphere (1998)', 'Adventure|Sci-Fi|Thriller']]"
     },
     "execution_count": 32,
     "metadata": {},
     "output_type": "execute_result"
    }
   ],
   "source": [
    "u_movie[u_movie[0] == 1779].loc[:, [1,2]].values.tolist()"
   ],
   "metadata": {
    "collapsed": false,
    "ExecuteTime": {
     "end_time": "2024-01-29T21:44:20.264492500Z",
     "start_time": "2024-01-29T21:44:20.250747100Z"
    }
   },
   "id": "3c18ddd86a154dcf"
  },
  {
   "cell_type": "code",
   "execution_count": 38,
   "outputs": [
    {
     "data": {
      "text/plain": "         0                                   1                             2\n0        1                    Toy Story (1995)   Animation|Children's|Comedy\n1        2                      Jumanji (1995)  Adventure|Children's|Fantasy\n2        3             Grumpier Old Men (1995)                Comedy|Romance\n3        4            Waiting to Exhale (1995)                  Comedy|Drama\n4        5  Father of the Bride Part II (1995)                        Comedy\n...    ...                                 ...                           ...\n3878  3948             Meet the Parents (2000)                        Comedy\n3879  3949          Requiem for a Dream (2000)                         Drama\n3880  3950                    Tigerland (2000)                         Drama\n3881  3951             Two Family House (2000)                         Drama\n3882  3952               Contender, The (2000)                Drama|Thriller\n\n[3883 rows x 3 columns]",
      "text/html": "<div>\n<style scoped>\n    .dataframe tbody tr th:only-of-type {\n        vertical-align: middle;\n    }\n\n    .dataframe tbody tr th {\n        vertical-align: top;\n    }\n\n    .dataframe thead th {\n        text-align: right;\n    }\n</style>\n<table border=\"1\" class=\"dataframe\">\n  <thead>\n    <tr style=\"text-align: right;\">\n      <th></th>\n      <th>0</th>\n      <th>1</th>\n      <th>2</th>\n    </tr>\n  </thead>\n  <tbody>\n    <tr>\n      <th>0</th>\n      <td>1</td>\n      <td>Toy Story (1995)</td>\n      <td>Animation|Children's|Comedy</td>\n    </tr>\n    <tr>\n      <th>1</th>\n      <td>2</td>\n      <td>Jumanji (1995)</td>\n      <td>Adventure|Children's|Fantasy</td>\n    </tr>\n    <tr>\n      <th>2</th>\n      <td>3</td>\n      <td>Grumpier Old Men (1995)</td>\n      <td>Comedy|Romance</td>\n    </tr>\n    <tr>\n      <th>3</th>\n      <td>4</td>\n      <td>Waiting to Exhale (1995)</td>\n      <td>Comedy|Drama</td>\n    </tr>\n    <tr>\n      <th>4</th>\n      <td>5</td>\n      <td>Father of the Bride Part II (1995)</td>\n      <td>Comedy</td>\n    </tr>\n    <tr>\n      <th>...</th>\n      <td>...</td>\n      <td>...</td>\n      <td>...</td>\n    </tr>\n    <tr>\n      <th>3878</th>\n      <td>3948</td>\n      <td>Meet the Parents (2000)</td>\n      <td>Comedy</td>\n    </tr>\n    <tr>\n      <th>3879</th>\n      <td>3949</td>\n      <td>Requiem for a Dream (2000)</td>\n      <td>Drama</td>\n    </tr>\n    <tr>\n      <th>3880</th>\n      <td>3950</td>\n      <td>Tigerland (2000)</td>\n      <td>Drama</td>\n    </tr>\n    <tr>\n      <th>3881</th>\n      <td>3951</td>\n      <td>Two Family House (2000)</td>\n      <td>Drama</td>\n    </tr>\n    <tr>\n      <th>3882</th>\n      <td>3952</td>\n      <td>Contender, The (2000)</td>\n      <td>Drama|Thriller</td>\n    </tr>\n  </tbody>\n</table>\n<p>3883 rows × 3 columns</p>\n</div>"
     },
     "execution_count": 38,
     "metadata": {},
     "output_type": "execute_result"
    }
   ],
   "source": [
    "u_movie"
   ],
   "metadata": {
    "collapsed": false,
    "ExecuteTime": {
     "end_time": "2024-01-29T22:02:41.040426900Z",
     "start_time": "2024-01-29T22:02:41.025241800Z"
    }
   },
   "id": "fc4d5ee54dfdc6b4"
  },
  {
   "cell_type": "code",
   "execution_count": 6,
   "outputs": [
    {
     "name": "stdout",
     "output_type": "stream",
     "text": [
      "3186\n",
      "1721\n",
      "1022\n",
      "1270\n",
      "2340\n",
      "1836\n",
      "3408\n",
      "1207\n",
      "2804\n",
      "720\n",
      "1193\n",
      "260\n",
      "919\n",
      "608\n",
      "2692\n",
      "1961\n",
      "2028\n",
      "3105\n",
      "938\n",
      "1962\n",
      "1035\n",
      "150\n",
      "2018\n",
      "1028\n",
      "1097\n",
      "914\n",
      "2797\n",
      "1287\n",
      "2762\n",
      "1246\n",
      "661\n",
      "2918\n",
      "531\n",
      "3114\n",
      "2791\n",
      "1029\n",
      "2321\n",
      "1197\n",
      "594\n",
      "2398\n",
      "1545\n",
      "527\n",
      "1\n",
      "588\n",
      "2687\n",
      "745\n",
      "595\n",
      "2294\n",
      "783\n",
      "2355\n",
      "1907\n",
      "1566\n",
      "48\n"
     ]
    }
   ],
   "source": [
    "df_user = u_data[u_data[0] == 1].sort_values(3)[1].values.tolist()\n",
    "for item in df_user:\n",
    "    print(item)"
   ],
   "metadata": {
    "collapsed": false,
    "ExecuteTime": {
     "end_time": "2024-01-29T20:16:33.091626900Z",
     "start_time": "2024-01-29T20:16:33.076264500Z"
    }
   },
   "id": "42db761d042b3960"
  },
  {
   "cell_type": "code",
   "outputs": [],
   "source": [
    "# reform\n",
    "import json\n",
    "with open('training_data/output_gpt_1m_IRS_pro.json', 'r') as f:\n",
    "    content = json.load(f)\n",
    "\n",
    "output = []\n",
    "output_fix = []\n",
    "for target, his_tra, influ_path in content:\n",
    "    _path = []\n",
    "    target_flag = False\n",
    "    if target in influ_path:\n",
    "        influ_path = influ_path[:influ_path.index(target)+1]\n",
    "        target_flag = True\n",
    "    \n",
    "    for item in influ_path:\n",
    "        _ = u_movie[u_movie[0] == item].values[0][1]\n",
    "        _path.append(_)\n",
    "        \n",
    "    output.append([_path.copy(),[]])\n",
    "    if not target_flag:\n",
    "        _path.append(u_movie[u_movie[0] == target].values[0][1])\n",
    "    output_fix.append([_path.copy(),[]])\n",
    "    \n",
    "    \n",
    "    \n",
    "with open(f\"training_data/output_gpt_1m_IRSori_pro.json\", \"w\", encoding='utf-8') as f:\n",
    "    json.dump(output, f)\n",
    "with open(f\"training_data/output_gpt_1m_IRSfix_pro.json\", \"w\", encoding='utf-8') as f:\n",
    "    json.dump(output_fix, f)"
   ],
   "metadata": {
    "collapsed": false,
    "ExecuteTime": {
     "end_time": "2024-05-09T08:34:24.556853Z",
     "start_time": "2024-05-09T08:34:24.024336Z"
    }
   },
   "id": "5e5ddaf5ab372317",
   "execution_count": 11
  },
  {
   "cell_type": "code",
   "outputs": [
    {
     "name": "stdout",
     "output_type": "stream",
     "text": [
      "0.008130081300813009\n"
     ]
    }
   ],
   "source": [
    "#POP\n",
    "import json\n",
    "from collections import Counter\n",
    "from random import choice\n",
    "\n",
    "with open(\"training_data/train_1m.json\") as f:\n",
    "    data = json.load(f)\n",
    "with open(\"movie_name.json\") as f:\n",
    "    movies = json.load(f)\n",
    "\n",
    "total_movie_rec = []\n",
    "movie_chain = {}\n",
    "for user_id in range(6040):\n",
    "    df_user = u_data[u_data[0] == user_id].sort_values(3)[1].values.tolist()\n",
    "    if len(df_user) == 0:\n",
    "        continue\n",
    "    cur = None\n",
    "    for nxt in df_user:\n",
    "        if cur is None:\n",
    "            cur = nxt\n",
    "            continue\n",
    "        total_movie_rec.append(nxt)\n",
    "        if cur in movie_chain.keys():\n",
    "            movie_chain[cur].append(nxt)\n",
    "        else:\n",
    "            movie_chain[cur] = [nxt]\n",
    "        cur = nxt\n",
    "\n",
    "def lst2counter(lst):\n",
    "    tmp = Counter(lst)\n",
    "    result = sorted(tmp.items(), key=lambda x: x[1], reverse=True)\n",
    "    return [_[0] for _ in result]\n",
    "\n",
    "for key in movie_chain.keys():\n",
    "    tra = movie_chain[key]\n",
    "    movie_chain[key] = lst2counter(tra)\n",
    "\n",
    "total_movie_rec = lst2counter(total_movie_rec)\n",
    "\n",
    "def top_k(a, p):\n",
    "    top_k_list = a\n",
    "    for i in top_k_list:\n",
    "        if i in p:\n",
    "            continue\n",
    "        return i\n",
    "\n",
    "def random_choice(p):\n",
    "    while True:\n",
    "        tmp = choice(movies)\n",
    "        if tmp[0] not in p:\n",
    "            return tmp[0]\n",
    "\n",
    "SR = 0\n",
    "path_lst = []\n",
    "for tar, his_tra in data['irs']:\n",
    "    influ_path = []\n",
    "    cur = his_tra[-1]\n",
    "    for _ in range(20):\n",
    "        if cur not in movie_chain.keys():\n",
    "            nxt = top_k(total_movie_rec, his_tra+influ_path)\n",
    "        else:\n",
    "            nxt = top_k(movie_chain[cur], his_tra+influ_path)\n",
    "        influ_path.append(nxt)\n",
    "        cur = nxt\n",
    "    if tar in influ_path:\n",
    "        SR += 1\n",
    "    path_lst.append([tar,his_tra,influ_path.copy()])\n",
    "\n",
    "with open(f\"training_data/pro/output_gpt_1m_POP_pro.json\", \"w\", encoding='utf-8') as f:\n",
    "    json.dump(path_lst, f)\n",
    "print(SR/len(data['irs']))"
   ],
   "metadata": {
    "collapsed": false,
    "ExecuteTime": {
     "end_time": "2024-05-09T16:29:18.158646Z",
     "start_time": "2024-05-09T16:29:13.488874Z"
    }
   },
   "id": "ad802d24af4cf770",
   "execution_count": 12
  },
  {
   "cell_type": "code",
   "outputs": [
    {
     "name": "stdout",
     "output_type": "stream",
     "text": [
      "2 0.016260162601626018\n"
     ]
    }
   ],
   "source": [
    "# random\n",
    "import json\n",
    "from collections import Counter\n",
    "from random import choice\n",
    "\n",
    "with open(\"training_data/train_1m.json\") as f:\n",
    "    data = json.load(f)\n",
    "with open(\"movie_name.json\") as f:\n",
    "    movies = json.load(f)\n",
    "\n",
    "def random_choice(p):\n",
    "    while True:\n",
    "        tmp = choice(movies)\n",
    "        if tmp[0] not in p:\n",
    "            return tmp[0]\n",
    "\n",
    "SR = 0\n",
    "path_lst = []\n",
    "for tar, his_tra in data['irs']:\n",
    "    influ_path = []\n",
    "    for _ in range(20):\n",
    "        nxt = random_choice(his_tra+influ_path)\n",
    "        influ_path.append(nxt)\n",
    "    if tar in influ_path:\n",
    "        SR += 1\n",
    "    path_lst.append([tar,his_tra,influ_path.copy()])\n",
    "\n",
    "with open(f\"training_data/output_gpt_1m_random_pro.json\", \"w\", encoding='utf-8') as f:\n",
    "    json.dump(path_lst, f)\n",
    "print(SR, SR/len(data['irs']))"
   ],
   "metadata": {
    "collapsed": false,
    "ExecuteTime": {
     "end_time": "2024-05-09T16:33:12.675763Z",
     "start_time": "2024-05-09T16:33:12.650716Z"
    }
   },
   "id": "1f325d15c6228a42",
   "execution_count": 33
  },
  {
   "cell_type": "code",
   "outputs": [],
   "source": [
    "# reform\n",
    "import json\n",
    "suffix = ['_POP', '_random']\n",
    "for suf in suffix:\n",
    "    with open(f'training_data/output_gpt_1m{suf}_pro.json', 'r') as f:\n",
    "        content = json.load(f)\n",
    "    \n",
    "    output = []\n",
    "    output_fix = []\n",
    "    for target, his_tra, influ_path in content:\n",
    "        _path = []\n",
    "        target_flag = False\n",
    "        if target in influ_path:\n",
    "            influ_path = influ_path[:influ_path.index(target)+1]\n",
    "            target_flag = True\n",
    "        \n",
    "        for item in influ_path:\n",
    "            _ = u_movie[u_movie[0] == item].values[0][1]\n",
    "            _path.append(_)\n",
    "            \n",
    "        output.append([_path.copy(),[]])\n",
    "        if not target_flag:\n",
    "            _path.append(u_movie[u_movie[0] == target].values[0][1])\n",
    "        output_fix.append([_path.copy(),[]])\n",
    "        \n",
    "    with open(f'training_data/pro/output_gpt_1m{suf}_pro.json', \"w\", encoding='utf-8') as f:\n",
    "        json.dump(output, f)"
   ],
   "metadata": {
    "collapsed": false,
    "ExecuteTime": {
     "end_time": "2024-05-09T16:39:50.726787Z",
     "start_time": "2024-05-09T16:39:49.371439Z"
    }
   },
   "id": "531a88477f9eaa1f",
   "execution_count": 36
  }
 ],
 "metadata": {
  "kernelspec": {
   "display_name": "Python 3",
   "language": "python",
   "name": "python3"
  },
  "language_info": {
   "codemirror_mode": {
    "name": "ipython",
    "version": 2
   },
   "file_extension": ".py",
   "mimetype": "text/x-python",
   "name": "python",
   "nbconvert_exporter": "python",
   "pygments_lexer": "ipython2",
   "version": "2.7.6"
  }
 },
 "nbformat": 4,
 "nbformat_minor": 5
}
