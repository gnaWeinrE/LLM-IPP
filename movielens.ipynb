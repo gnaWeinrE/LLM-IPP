{
 "cells": [
  {
   "cell_type": "code",
   "execution_count": 19,
   "metadata": {
    "collapsed": true,
    "ExecuteTime": {
     "end_time": "2023-12-07T21:51:49.256272900Z",
     "start_time": "2023-12-07T21:51:41.603525200Z"
    }
   },
   "outputs": [],
   "source": [
    "import pandas as pd\n",
    "\n",
    "m_tag_score = pd.read_csv(\"./dataset/ml-25m/genome-scores.csv\")\n",
    "m_tag_list = pd.read_csv(\"./dataset/ml-25m/genome-tags.csv\")\n",
    "u_m_ratings = pd.read_csv(\"./dataset/ml-25m/ratings.csv\")\n",
    "m_genre = pd.read_csv(\"./dataset/ml-25m/movies.csv\")"
   ]
  },
  {
   "cell_type": "code",
   "execution_count": 35,
   "outputs": [
    {
     "data": {
      "text/plain": "[107406, 139385, 195159, 5618, 8961, 44665, 48780, 174055, 171011, 74458]"
     },
     "execution_count": 35,
     "metadata": {},
     "output_type": "execute_result"
    }
   ],
   "source": [
    "u_id = 4\n",
    "u_rated_m = u_m_ratings[u_m_ratings[\"userId\"]==u_id]\n",
    "u_rated_m_sorted = u_rated_m.sort_values(by=['rating'], ascending=[False])\n",
    "u_good = u_rated_m_sorted.head(10)['movieId'].tolist()\n",
    "u_bad = u_rated_m_sorted.tail(10)['movieId'].tolist()\n",
    "u_good"
   ],
   "metadata": {
    "collapsed": false,
    "ExecuteTime": {
     "end_time": "2023-12-08T00:08:22.396991200Z",
     "start_time": "2023-12-08T00:08:22.329331Z"
    }
   }
  },
  {
   "cell_type": "code",
   "execution_count": 45,
   "outputs": [
    {
     "data": {
      "text/plain": "       movieId                                              title  \\\n5508      5618  Spirited Away (Sen to Chihiro no kamikakushi) ...   \n8246      8961                            Incredibles, The (2004)   \n10720    44665                         Lucky Number Slevin (2006)   \n11163    48780                               Prestige, The (2006)   \n14336    74458                              Shutter Island (2010)   \n20779   107406                                 Snowpiercer (2013)   \n31752   139385                                The Revenant (2015)   \n45741   171011                             Planet Earth II (2016)   \n47219   174055                                     Dunkirk (2017)   \n56890   195159           Spider-Man: Into the Spider-Verse (2018)   \n\n                                           genres  \n5508                  Adventure|Animation|Fantasy  \n8246   Action|Adventure|Animation|Children|Comedy  \n10720                         Crime|Drama|Mystery  \n11163               Drama|Mystery|Sci-Fi|Thriller  \n14336                      Drama|Mystery|Thriller  \n20779                         Action|Drama|Sci-Fi  \n31752                             Adventure|Drama  \n45741                                 Documentary  \n47219                   Action|Drama|Thriller|War  \n56890           Action|Adventure|Animation|Sci-Fi  ",
      "text/html": "<div>\n<style scoped>\n    .dataframe tbody tr th:only-of-type {\n        vertical-align: middle;\n    }\n\n    .dataframe tbody tr th {\n        vertical-align: top;\n    }\n\n    .dataframe thead th {\n        text-align: right;\n    }\n</style>\n<table border=\"1\" class=\"dataframe\">\n  <thead>\n    <tr style=\"text-align: right;\">\n      <th></th>\n      <th>movieId</th>\n      <th>title</th>\n      <th>genres</th>\n    </tr>\n  </thead>\n  <tbody>\n    <tr>\n      <th>5508</th>\n      <td>5618</td>\n      <td>Spirited Away (Sen to Chihiro no kamikakushi) ...</td>\n      <td>Adventure|Animation|Fantasy</td>\n    </tr>\n    <tr>\n      <th>8246</th>\n      <td>8961</td>\n      <td>Incredibles, The (2004)</td>\n      <td>Action|Adventure|Animation|Children|Comedy</td>\n    </tr>\n    <tr>\n      <th>10720</th>\n      <td>44665</td>\n      <td>Lucky Number Slevin (2006)</td>\n      <td>Crime|Drama|Mystery</td>\n    </tr>\n    <tr>\n      <th>11163</th>\n      <td>48780</td>\n      <td>Prestige, The (2006)</td>\n      <td>Drama|Mystery|Sci-Fi|Thriller</td>\n    </tr>\n    <tr>\n      <th>14336</th>\n      <td>74458</td>\n      <td>Shutter Island (2010)</td>\n      <td>Drama|Mystery|Thriller</td>\n    </tr>\n    <tr>\n      <th>20779</th>\n      <td>107406</td>\n      <td>Snowpiercer (2013)</td>\n      <td>Action|Drama|Sci-Fi</td>\n    </tr>\n    <tr>\n      <th>31752</th>\n      <td>139385</td>\n      <td>The Revenant (2015)</td>\n      <td>Adventure|Drama</td>\n    </tr>\n    <tr>\n      <th>45741</th>\n      <td>171011</td>\n      <td>Planet Earth II (2016)</td>\n      <td>Documentary</td>\n    </tr>\n    <tr>\n      <th>47219</th>\n      <td>174055</td>\n      <td>Dunkirk (2017)</td>\n      <td>Action|Drama|Thriller|War</td>\n    </tr>\n    <tr>\n      <th>56890</th>\n      <td>195159</td>\n      <td>Spider-Man: Into the Spider-Verse (2018)</td>\n      <td>Action|Adventure|Animation|Sci-Fi</td>\n    </tr>\n  </tbody>\n</table>\n</div>"
     },
     "execution_count": 45,
     "metadata": {},
     "output_type": "execute_result"
    }
   ],
   "source": [
    "u_good_m = m_genre[m_genre['movieId'].isin(u_good)]\n",
    "u_bad_m = m_genre[m_genre['movieId'].isin(u_bad)]\n",
    "u_good_m"
   ],
   "metadata": {
    "collapsed": false,
    "ExecuteTime": {
     "end_time": "2023-12-08T01:06:36.892496800Z",
     "start_time": "2023-12-08T01:06:36.879472800Z"
    }
   }
  },
  {
   "cell_type": "code",
   "execution_count": 46,
   "outputs": [
    {
     "name": "stdout",
     "output_type": "stream",
     "text": [
      "['Snowpiercer (2013)', 'allegory', 'distopia', 'dystopia', 'social commentary', 'train']\n",
      "['The Revenant (2015)', 'cinematography', 'oscar (best cinematography)', 'oscar (best directing)', 'oscar (best supporting actor)', 'visually appealing']\n",
      "['Spider-Man: Into the Spider-Verse (2018)', 'original', 'storytelling', 'superheroes', 'visually appealing', 'visually stunning']\n",
      "['Spirited Away (Sen to Chihiro no kamikakushi) (2001)', 'animation', 'fantasy world', 'imagination', 'oscar (best animated feature)', 'weird']\n",
      "['Incredibles, The (2004)', 'oscar (best animated feature)', 'pixar animation', 'super hero', 'superhero', 'superheroes']\n",
      "['Lucky Number Slevin (2006)', 'assassin', 'gangster', 'gangsters', 'hit men', 'twists & turns']\n",
      "['Prestige, The (2006)', 'plot twist', 'stage magic', 'surprise ending', 'twists & turns', 'unusual plot structure']\n",
      "['Dunkirk (2017)', '70mm', 'best war films', 'cinematography', 'tense', 'war']\n",
      "['Planet Earth II (2016)', 'masterpiece', 'narrated', 'photography', 'visual', 'visually appealing']\n",
      "['Shutter Island (2010)', 'mindfuck', 'plot twist', 'psychological', 'psychology', 'twist ending']\n",
      "['Iron Man 2 (2010)', 'based on a comic', 'robert downey jr', 'super hero', 'superhero', 'superheroes']\n",
      "['Campaign, The (2012)', 'comedy', 'political', 'politics', 'satire', 'world politics']\n",
      "['Transformers: Dark of the Moon (2011)', 'action', 'big budget', 'franchise', 'giant robots', 'robots']\n",
      "['Harry Potter and the Deathly Hallows: Part 2 (2011)', 'emma watson', 'fantasy world', 'franchise', 'harry potter', 'wizards']\n",
      "['Eragon (2006)', 'based on a book', 'based on book', 'dragons', 'fantasy', 'fantasy world']\n",
      "['Avengers: Infinity War - Part I (2018)', 'action', 'humor', 'superheroes', 'visually appealing', 'visually stunning']\n",
      "['Prometheus (2012)', 'alien', 'aliens', 'sci fi', 'sci-fi', 'scifi']\n",
      "['Last Airbender, The (2010)', 'bad acting', 'based on a tv show', 'fantasy', 'horrible', 'series']\n",
      "['Percy Jackson & the Olympians: The Lightning Thief (2010)', 'adapted from:book', 'based on a book', 'based on book', 'fantasy world', 'mythology']\n",
      "['Cowboys & Aliens (2011)', 'action', 'alien', 'alien invasion', 'aliens', 'sci-fi']\n"
     ]
    }
   ],
   "source": [
    "def output_tags(total_list, m_id):\n",
    "    tag_id = m_tag_score[m_tag_score['movieId'] == m_id].sort_values(by=['relevance'], ascending=[False]).head(5)['tagId'].tolist()\n",
    "    tag_list = m_tag_list[m_tag_list['tagId'].isin(tag_id)]['tag'].tolist()\n",
    "    title = m_genre[m_genre['movieId']==m_id]['title'].tolist()\n",
    "    total_list.append(title+tag_list)\n",
    "    print(title+tag_list)\n",
    "    return total_list\n",
    "\n",
    "total_tag_l = []\n",
    "for m_id in u_good:\n",
    "    total_tag_l = output_tags(total_tag_l, m_id)\n",
    "data = pd.DataFrame(total_tag_l)\n",
    "data.to_csv(\"dataset/good.csv\")\n",
    "\n",
    "total_tag_l = []\n",
    "for m_id in u_bad:\n",
    "    total_tag_l = output_tags(total_tag_l, m_id)\n",
    "data = pd.DataFrame(total_tag_l)\n",
    "data.to_csv(\"dataset/bad.csv\")"
   ],
   "metadata": {
    "collapsed": false,
    "ExecuteTime": {
     "end_time": "2023-12-08T01:07:41.722113400Z",
     "start_time": "2023-12-08T01:07:41.476158800Z"
    }
   }
  },
  {
   "cell_type": "code",
   "execution_count": 40,
   "outputs": [
    {
     "name": "stdout",
     "output_type": "stream",
     "text": [
      "['allegory', 'distopia', 'dystopia', 'social commentary', 'train']\n",
      "['cinematography', 'oscar (best cinematography)', 'oscar (best directing)', 'oscar (best supporting actor)', 'visually appealing']\n",
      "['original', 'storytelling', 'superheroes', 'visually appealing', 'visually stunning']\n",
      "['animation', 'fantasy world', 'imagination', 'oscar (best animated feature)', 'weird']\n",
      "['oscar (best animated feature)', 'pixar animation', 'super hero', 'superhero', 'superheroes']\n",
      "['assassin', 'gangster', 'gangsters', 'hit men', 'twists & turns']\n",
      "['plot twist', 'stage magic', 'surprise ending', 'twists & turns', 'unusual plot structure']\n",
      "['70mm', 'best war films', 'cinematography', 'tense', 'war']\n",
      "['masterpiece', 'narrated', 'photography', 'visual', 'visually appealing']\n",
      "['mindfuck', 'plot twist', 'psychological', 'psychology', 'twist ending']\n"
     ]
    }
   ],
   "source": [
    "from collections import Counter\n",
    "counter = Counter(total_tag_l)\n",
    "tag_dict = dict(counter)\n",
    "\n",
    "res = counter.most_common(20)"
   ],
   "metadata": {
    "collapsed": false,
    "ExecuteTime": {
     "start_time": "2023-12-08T00:39:23.275736Z"
    }
   }
  },
  {
   "cell_type": "code",
   "execution_count": 31,
   "outputs": [
    {
     "name": "stdout",
     "output_type": "stream",
     "text": [
      "toys\n",
      "computer animation\n",
      "pixar animation\n",
      "kids and family\n",
      "animation\n",
      "kids\n",
      "pixar\n",
      "children\n",
      "cartoon\n",
      "animated\n"
     ]
    }
   ],
   "source": [
    "u_movie1 = u_movie_tag[u_movie_tag['movieId']==1]\n",
    "u_sort = u_movie1.sort_values(by=['relevance'],ascending=[False])\n",
    "tag_list = u_sort.head(10)['tagId'].tolist()\n",
    "for x in tag_list:\n",
    "    print(u_tag.loc[x-1]['tag'])"
   ],
   "metadata": {
    "collapsed": false
   }
  },
  {
   "cell_type": "code",
   "execution_count": 25,
   "outputs": [
    {
     "data": {
      "text/plain": "      movieId  tagId  relevance\n18          1     19    0.66250\n28          1     29    0.89375\n29          1     30    0.67625\n60          1     61    0.61750\n61          1     62    0.63000\n...       ...    ...        ...\n1035        1   1036    0.99925\n1061        1   1062    0.89625\n1071        1   1072    0.72425\n1091        1   1092    0.67325\n1113        1   1114    0.69400\n\n[63 rows x 3 columns]",
      "text/html": "<div>\n<style scoped>\n    .dataframe tbody tr th:only-of-type {\n        vertical-align: middle;\n    }\n\n    .dataframe tbody tr th {\n        vertical-align: top;\n    }\n\n    .dataframe thead th {\n        text-align: right;\n    }\n</style>\n<table border=\"1\" class=\"dataframe\">\n  <thead>\n    <tr style=\"text-align: right;\">\n      <th></th>\n      <th>movieId</th>\n      <th>tagId</th>\n      <th>relevance</th>\n    </tr>\n  </thead>\n  <tbody>\n    <tr>\n      <th>18</th>\n      <td>1</td>\n      <td>19</td>\n      <td>0.66250</td>\n    </tr>\n    <tr>\n      <th>28</th>\n      <td>1</td>\n      <td>29</td>\n      <td>0.89375</td>\n    </tr>\n    <tr>\n      <th>29</th>\n      <td>1</td>\n      <td>30</td>\n      <td>0.67625</td>\n    </tr>\n    <tr>\n      <th>60</th>\n      <td>1</td>\n      <td>61</td>\n      <td>0.61750</td>\n    </tr>\n    <tr>\n      <th>61</th>\n      <td>1</td>\n      <td>62</td>\n      <td>0.63000</td>\n    </tr>\n    <tr>\n      <th>...</th>\n      <td>...</td>\n      <td>...</td>\n      <td>...</td>\n    </tr>\n    <tr>\n      <th>1035</th>\n      <td>1</td>\n      <td>1036</td>\n      <td>0.99925</td>\n    </tr>\n    <tr>\n      <th>1061</th>\n      <td>1</td>\n      <td>1062</td>\n      <td>0.89625</td>\n    </tr>\n    <tr>\n      <th>1071</th>\n      <td>1</td>\n      <td>1072</td>\n      <td>0.72425</td>\n    </tr>\n    <tr>\n      <th>1091</th>\n      <td>1</td>\n      <td>1092</td>\n      <td>0.67325</td>\n    </tr>\n    <tr>\n      <th>1113</th>\n      <td>1</td>\n      <td>1114</td>\n      <td>0.69400</td>\n    </tr>\n  </tbody>\n</table>\n<p>63 rows × 3 columns</p>\n</div>"
     },
     "execution_count": 25,
     "metadata": {},
     "output_type": "execute_result"
    }
   ],
   "source": [
    "u_re = u_movie1[u_movie1['relevance']>0.6]\n",
    "u_re"
   ],
   "metadata": {
    "collapsed": false
   }
  },
  {
   "cell_type": "code",
   "execution_count": 24,
   "outputs": [
    {
     "data": {
      "text/plain": "'3d'"
     },
     "execution_count": 24,
     "metadata": {},
     "output_type": "execute_result"
    }
   ],
   "source": [
    "u_tag.loc[10]['tag']"
   ],
   "metadata": {
    "collapsed": false
   }
  },
  {
   "cell_type": "code",
   "execution_count": 23,
   "outputs": [
    {
     "data": {
      "text/plain": "      tagId           tag\n0         1           007\n1         2  007 (series)\n2         3  18th century\n3         4         1920s\n4         5         1930s\n...     ...           ...\n1123   1124       writing\n1124   1125         wuxia\n1125   1126          wwii\n1126   1127        zombie\n1127   1128       zombies\n\n[1128 rows x 2 columns]",
      "text/html": "<div>\n<style scoped>\n    .dataframe tbody tr th:only-of-type {\n        vertical-align: middle;\n    }\n\n    .dataframe tbody tr th {\n        vertical-align: top;\n    }\n\n    .dataframe thead th {\n        text-align: right;\n    }\n</style>\n<table border=\"1\" class=\"dataframe\">\n  <thead>\n    <tr style=\"text-align: right;\">\n      <th></th>\n      <th>tagId</th>\n      <th>tag</th>\n    </tr>\n  </thead>\n  <tbody>\n    <tr>\n      <th>0</th>\n      <td>1</td>\n      <td>007</td>\n    </tr>\n    <tr>\n      <th>1</th>\n      <td>2</td>\n      <td>007 (series)</td>\n    </tr>\n    <tr>\n      <th>2</th>\n      <td>3</td>\n      <td>18th century</td>\n    </tr>\n    <tr>\n      <th>3</th>\n      <td>4</td>\n      <td>1920s</td>\n    </tr>\n    <tr>\n      <th>4</th>\n      <td>5</td>\n      <td>1930s</td>\n    </tr>\n    <tr>\n      <th>...</th>\n      <td>...</td>\n      <td>...</td>\n    </tr>\n    <tr>\n      <th>1123</th>\n      <td>1124</td>\n      <td>writing</td>\n    </tr>\n    <tr>\n      <th>1124</th>\n      <td>1125</td>\n      <td>wuxia</td>\n    </tr>\n    <tr>\n      <th>1125</th>\n      <td>1126</td>\n      <td>wwii</td>\n    </tr>\n    <tr>\n      <th>1126</th>\n      <td>1127</td>\n      <td>zombie</td>\n    </tr>\n    <tr>\n      <th>1127</th>\n      <td>1128</td>\n      <td>zombies</td>\n    </tr>\n  </tbody>\n</table>\n<p>1128 rows × 2 columns</p>\n</div>"
     },
     "execution_count": 23,
     "metadata": {},
     "output_type": "execute_result"
    }
   ],
   "source": [
    "u_tag"
   ],
   "metadata": {
    "collapsed": false
   }
  },
  {
   "cell_type": "code",
   "execution_count": 33,
   "outputs": [
    {
     "name": "stdout",
     "output_type": "stream",
     "text": [
      "adventure\n",
      "children\n",
      "fantasy\n",
      "kids\n",
      "special effects\n",
      "jungle\n",
      "fantasy world\n",
      "fun movie\n",
      "childhood\n",
      "animals\n"
     ]
    }
   ],
   "source": [
    "def movie_tag_search(movieId):\n",
    "    u_m = u_movie_tag[u_movie_tag['movieId']==movieId]\n",
    "    u_sort = u_m.sort_values(by=['relevance'],ascending=[False])\n",
    "    tag_list = u_sort.head(10)['tagId'].tolist()\n",
    "    for tag_ in tag_list:\n",
    "        print(u_tag.loc[tag_-1]['tag'])\n",
    "\n",
    "movie_tag_search(2)"
   ],
   "metadata": {
    "collapsed": false
   }
  },
  {
   "cell_type": "code",
   "execution_count": null,
   "outputs": [],
   "source": [],
   "metadata": {
    "collapsed": false
   }
  }
 ],
 "metadata": {
  "kernelspec": {
   "display_name": "Python 3",
   "language": "python",
   "name": "python3"
  },
  "language_info": {
   "codemirror_mode": {
    "name": "ipython",
    "version": 2
   },
   "file_extension": ".py",
   "mimetype": "text/x-python",
   "name": "python",
   "nbconvert_exporter": "python",
   "pygments_lexer": "ipython2",
   "version": "2.7.6"
  }
 },
 "nbformat": 4,
 "nbformat_minor": 0
}
