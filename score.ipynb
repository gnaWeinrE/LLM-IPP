{
 "cells": [
  {
   "cell_type": "code",
   "execution_count": 4,
   "outputs": [
    {
     "name": "stdout",
     "output_type": "stream",
     "text": [
      "design innovation 0.198\n",
      "innovation technologytrends 0.483\n",
      "technologytrends userexperience 0.099\n",
      "userexperience outdooractivities 0.061\n",
      "outdooractivities nature 0.268\n",
      "nature pets 0.114\n",
      "pets corgi 0.373\n",
      "[0.198, 0.483, 0.099, 0.061, 0.268, 0.114, 0.373] 0.228\n",
      "designandtechnology gaming 0.066\n",
      "gaming outdooractivities 0.141\n",
      "outdooractivities artandcreativity -0.026\n",
      "artandcreativity communityengagement 0.008\n",
      "communityengagement corgi 0.057\n",
      "[0.066, 0.141, -0.026, 0.008, 0.057] 0.0492\n",
      "designandtechnology innovation 0.022\n",
      "innovation emergingtechnologies 0.282\n",
      "emergingtechnologies artificialintelligence -0.032\n",
      "artificialintelligence robotics 0.121\n",
      "robotics pets 0.077\n",
      "pets corgi 0.373\n",
      "[0.022, 0.282, -0.032, 0.121, 0.077, 0.373] 0.14049999999999999\n",
      "design ui/ux 0.186\n",
      "ui/ux innovation 0.081\n",
      "innovation technology 0.41\n",
      "technology gadgets 0.345\n",
      "gadgets pettech 0.017\n",
      "pettech corgi 0.161\n",
      "[0.186, 0.081, 0.41, 0.345, 0.017, 0.161] 0.19999999999999998\n",
      "design ui 0.186\n",
      "ui ux 0.428\n",
      "ux interaction 0.159\n",
      "interaction outdoors 0.085\n",
      "outdoors nature 0.254\n",
      "nature animals 0.203\n",
      "animals dogs 0.59\n",
      "dogs pets 0.758\n",
      "pets corg 0.404\n",
      "[0.186, 0.428, 0.159, 0.085, 0.254, 0.203, 0.59, 0.758, 0.404] 0.3407777777777778\n",
      "[0.228, 0.0492, 0.14049999999999999, 0.19999999999999998, 0.3407777777777778]\n",
      "0.19169555555555556\n"
     ]
    }
   ],
   "source": [
    "import requests\n",
    "import time\n",
    "\n",
    "with open('output.txt','r') as f:\n",
    "    content = f.readlines()\n",
    "    total_sim = []\n",
    "    for line in content:\n",
    "        if line == '\\n':\n",
    "            continue\n",
    "        sim_mean = []\n",
    "        \n",
    "        metapath = line[:-1].replace(\" \", \"\").lower().split(',')\n",
    "        for i in range(len(metapath)-1):\n",
    "            word_1 = metapath[i]\n",
    "            word_2 = metapath[i+1]\n",
    "            time.sleep(2)\n",
    "            sim = requests.get(f'https://api.conceptnet.io/relatedness?node1=/c/en/{word_1}&node2=/c/en/{word_2}').json()['value']\n",
    "            print(word_1, word_2, sim)\n",
    "            \n",
    "            sim_mean.append(sim)\n",
    "            \n",
    "        path_mean = sum(sim_mean)/len(sim_mean)\n",
    "        total_sim.append(path_mean)  \n",
    "        print(sim_mean, path_mean)\n",
    "    \n",
    "    final = sum(total_sim)/len(total_sim)\n",
    "    print(total_sim)\n",
    "    print(final)"
   ],
   "metadata": {
    "collapsed": false,
    "ExecuteTime": {
     "end_time": "2024-01-24T20:35:45.323341700Z",
     "start_time": "2024-01-24T20:34:07.684766800Z"
    }
   },
   "id": "1c1d6a5db3665137"
  }
 ],
 "metadata": {
  "kernelspec": {
   "display_name": "Python 3",
   "language": "python",
   "name": "python3"
  },
  "language_info": {
   "codemirror_mode": {
    "name": "ipython",
    "version": 2
   },
   "file_extension": ".py",
   "mimetype": "text/x-python",
   "name": "python",
   "nbconvert_exporter": "python",
   "pygments_lexer": "ipython2",
   "version": "2.7.6"
  }
 },
 "nbformat": 4,
 "nbformat_minor": 5
}
